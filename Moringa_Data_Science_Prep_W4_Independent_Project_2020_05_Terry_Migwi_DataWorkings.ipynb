{
  "nbformat": 4,
  "nbformat_minor": 0,
  "metadata": {
    "colab": {
      "name": "Moringa_Data_Science_Prep_W4_Independent_Project_2020_05_Terry_Migwi_DataWorkings.ipynb",
      "provenance": [],
      "collapsed_sections": [],
      "authorship_tag": "ABX9TyO72OguyFCNzpDuP1n5tJEz",
      "include_colab_link": true
    },
    "kernelspec": {
      "name": "python3",
      "display_name": "Python 3"
    }
  },
  "cells": [
    {
      "cell_type": "markdown",
      "metadata": {
        "id": "view-in-github",
        "colab_type": "text"
      },
      "source": [
        "<a href=\"https://colab.research.google.com/github/Terry-Migwi/Week4-IP-Colab-Notebook/blob/master/Moringa_Data_Science_Prep_W4_Independent_Project_2020_05_Terry_Migwi_DataWorkings.ipynb\" target=\"_parent\"><img src=\"https://colab.research.google.com/assets/colab-badge.svg\" alt=\"Open In Colab\"/></a>"
      ]
    },
    {
      "cell_type": "markdown",
      "metadata": {
        "id": "nBledOQ3In2Q",
        "colab_type": "text"
      },
      "source": [
        "RESEARCH QUESTION\n",
        "\n",
        "Identify the most popular hour of the day for picking up a shared electric car (Bluecar) in the city of Paris over the month of April 2018.\n",
        "\n",
        "BONUS QUESTIONS (Optional)\n",
        "\n",
        "What is the most popular hour for returning cars?\n",
        "\n",
        "What station is the most popular?\n",
        "\n",
        "Overall?\n",
        "At the most popular picking hour?\n",
        "\n",
        "What postal code is the most popular for picking up Blue cars? Does the most popular station belong to that postal code?\n",
        "\n",
        "Overall?\n",
        "At the most popular picking hour?\n",
        "\n",
        "Do the results change if you consider Utilib and Utilib 1.4 instead of Blue cars? \n"
      ]
    },
    {
      "cell_type": "markdown",
      "metadata": {
        "id": "TbnVyEDdJ7z-",
        "colab_type": "text"
      },
      "source": [
        "IMPORTING REQUIRED LIBRARIES\n"
      ]
    },
    {
      "cell_type": "code",
      "metadata": {
        "id": "7pkueVA1IfLC",
        "colab_type": "code",
        "colab": {}
      },
      "source": [
        "#import pandas library\n",
        "import pandas as pd\n",
        "\n",
        "#importing numpy library\n",
        "\n",
        "import numpy as np"
      ],
      "execution_count": 0,
      "outputs": []
    },
    {
      "cell_type": "markdown",
      "metadata": {
        "id": "6mCX2IJQKaZa",
        "colab_type": "text"
      },
      "source": [
        "READING OUR DATA"
      ]
    },
    {
      "cell_type": "code",
      "metadata": {
        "id": "sHhiFRraKSsy",
        "colab_type": "code",
        "colab": {}
      },
      "source": [
        "#importing our csv data\n",
        "df = pd.read_csv('/content/Autolib_dataset (2).csv')"
      ],
      "execution_count": 0,
      "outputs": []
    },
    {
      "cell_type": "markdown",
      "metadata": {
        "id": "Y1zdug7ELG5F",
        "colab_type": "text"
      },
      "source": [
        "PREVIEWING OUR DATA"
      ]
    },
    {
      "cell_type": "code",
      "metadata": {
        "id": "IVpXPsEo9yEM",
        "colab_type": "code",
        "outputId": "dccc035d-63a3-4fc5-9152-50380cae9d94",
        "colab": {
          "base_uri": "https://localhost:8080/",
          "height": 434
        }
      },
      "source": [
        "#viewing the head\n",
        "df.head()"
      ],
      "execution_count": 0,
      "outputs": [
        {
          "output_type": "execute_result",
          "data": {
            "text/html": [
              "<div>\n",
              "<style scoped>\n",
              "    .dataframe tbody tr th:only-of-type {\n",
              "        vertical-align: middle;\n",
              "    }\n",
              "\n",
              "    .dataframe tbody tr th {\n",
              "        vertical-align: top;\n",
              "    }\n",
              "\n",
              "    .dataframe thead th {\n",
              "        text-align: right;\n",
              "    }\n",
              "</style>\n",
              "<table border=\"1\" class=\"dataframe\">\n",
              "  <thead>\n",
              "    <tr style=\"text-align: right;\">\n",
              "      <th></th>\n",
              "      <th>Address</th>\n",
              "      <th>Cars</th>\n",
              "      <th>Bluecar counter</th>\n",
              "      <th>Utilib counter</th>\n",
              "      <th>Utilib 1.4 counter</th>\n",
              "      <th>Charge Slots</th>\n",
              "      <th>Charging Status</th>\n",
              "      <th>City</th>\n",
              "      <th>Displayed comment</th>\n",
              "      <th>ID</th>\n",
              "      <th>Kind</th>\n",
              "      <th>Geo point</th>\n",
              "      <th>Postal code</th>\n",
              "      <th>Public name</th>\n",
              "      <th>Rental status</th>\n",
              "      <th>Scheduled at</th>\n",
              "      <th>Slots</th>\n",
              "      <th>Station type</th>\n",
              "      <th>Status</th>\n",
              "      <th>Subscription status</th>\n",
              "      <th>year</th>\n",
              "      <th>month</th>\n",
              "      <th>day</th>\n",
              "      <th>hour</th>\n",
              "      <th>minute</th>\n",
              "    </tr>\n",
              "  </thead>\n",
              "  <tbody>\n",
              "    <tr>\n",
              "      <th>0</th>\n",
              "      <td>2 Avenue de Suffren</td>\n",
              "      <td>0</td>\n",
              "      <td>0</td>\n",
              "      <td>0</td>\n",
              "      <td>0</td>\n",
              "      <td>0</td>\n",
              "      <td>nonexistent</td>\n",
              "      <td>Paris</td>\n",
              "      <td>NaN</td>\n",
              "      <td>paris-suffren-2</td>\n",
              "      <td>STATION</td>\n",
              "      <td>48.857, 2.2917</td>\n",
              "      <td>75015</td>\n",
              "      <td>Paris/Suffren/2</td>\n",
              "      <td>operational</td>\n",
              "      <td>NaN</td>\n",
              "      <td>2</td>\n",
              "      <td>station</td>\n",
              "      <td>ok</td>\n",
              "      <td>nonexistent</td>\n",
              "      <td>2018</td>\n",
              "      <td>4</td>\n",
              "      <td>8</td>\n",
              "      <td>11</td>\n",
              "      <td>43</td>\n",
              "    </tr>\n",
              "    <tr>\n",
              "      <th>1</th>\n",
              "      <td>145 Rue Raymond Losserand</td>\n",
              "      <td>6</td>\n",
              "      <td>6</td>\n",
              "      <td>0</td>\n",
              "      <td>0</td>\n",
              "      <td>0</td>\n",
              "      <td>operational</td>\n",
              "      <td>Paris</td>\n",
              "      <td>NaN</td>\n",
              "      <td>paris-raymondlosserand-145</td>\n",
              "      <td>STATION</td>\n",
              "      <td>48.83126, 2.313088</td>\n",
              "      <td>75014</td>\n",
              "      <td>Paris/Raymond Losserand/145</td>\n",
              "      <td>operational</td>\n",
              "      <td>NaN</td>\n",
              "      <td>0</td>\n",
              "      <td>station</td>\n",
              "      <td>ok</td>\n",
              "      <td>nonexistent</td>\n",
              "      <td>2018</td>\n",
              "      <td>4</td>\n",
              "      <td>6</td>\n",
              "      <td>7</td>\n",
              "      <td>24</td>\n",
              "    </tr>\n",
              "    <tr>\n",
              "      <th>2</th>\n",
              "      <td>2 Avenue John Fitzgerald Kennedy</td>\n",
              "      <td>3</td>\n",
              "      <td>3</td>\n",
              "      <td>0</td>\n",
              "      <td>2</td>\n",
              "      <td>0</td>\n",
              "      <td>operational</td>\n",
              "      <td>Le Bourget</td>\n",
              "      <td>NaN</td>\n",
              "      <td>lebourget-johnfitzgeraldkennedy-2</td>\n",
              "      <td>STATION</td>\n",
              "      <td>48.938103, 2.4286035</td>\n",
              "      <td>93350</td>\n",
              "      <td>Le Bourget/John Fitzgerald Kennedy/2</td>\n",
              "      <td>operational</td>\n",
              "      <td>NaN</td>\n",
              "      <td>1</td>\n",
              "      <td>station</td>\n",
              "      <td>ok</td>\n",
              "      <td>nonexistent</td>\n",
              "      <td>2018</td>\n",
              "      <td>4</td>\n",
              "      <td>3</td>\n",
              "      <td>20</td>\n",
              "      <td>14</td>\n",
              "    </tr>\n",
              "    <tr>\n",
              "      <th>3</th>\n",
              "      <td>51 Rue EugÃ¨ne OudinÃ©</td>\n",
              "      <td>3</td>\n",
              "      <td>3</td>\n",
              "      <td>1</td>\n",
              "      <td>0</td>\n",
              "      <td>1</td>\n",
              "      <td>operational</td>\n",
              "      <td>Paris</td>\n",
              "      <td>NaN</td>\n",
              "      <td>paris-eugeneoudine-51</td>\n",
              "      <td>STATION</td>\n",
              "      <td>48.8250327, 2.3725162</td>\n",
              "      <td>75013</td>\n",
              "      <td>Paris/EugÃ¨ne OudinÃ©/51</td>\n",
              "      <td>operational</td>\n",
              "      <td>NaN</td>\n",
              "      <td>2</td>\n",
              "      <td>station</td>\n",
              "      <td>ok</td>\n",
              "      <td>nonexistent</td>\n",
              "      <td>2018</td>\n",
              "      <td>4</td>\n",
              "      <td>4</td>\n",
              "      <td>4</td>\n",
              "      <td>37</td>\n",
              "    </tr>\n",
              "    <tr>\n",
              "      <th>4</th>\n",
              "      <td>6 avenue de la Porte de Champerret</td>\n",
              "      <td>3</td>\n",
              "      <td>3</td>\n",
              "      <td>0</td>\n",
              "      <td>0</td>\n",
              "      <td>0</td>\n",
              "      <td>nonexistent</td>\n",
              "      <td>Paris</td>\n",
              "      <td>NaN</td>\n",
              "      <td>paris-portedechamperret-6</td>\n",
              "      <td>PARKING</td>\n",
              "      <td>48.8862632, 2.2874511</td>\n",
              "      <td>75017</td>\n",
              "      <td>Paris/Porte de Champerret/6</td>\n",
              "      <td>operational</td>\n",
              "      <td>NaN</td>\n",
              "      <td>3</td>\n",
              "      <td>station</td>\n",
              "      <td>ok</td>\n",
              "      <td>nonexistent</td>\n",
              "      <td>2018</td>\n",
              "      <td>4</td>\n",
              "      <td>8</td>\n",
              "      <td>17</td>\n",
              "      <td>23</td>\n",
              "    </tr>\n",
              "  </tbody>\n",
              "</table>\n",
              "</div>"
            ],
            "text/plain": [
              "                              Address  Cars  Bluecar counter  ...  day  hour  minute\n",
              "0                 2 Avenue de Suffren     0                0  ...    8    11      43\n",
              "1           145 Rue Raymond Losserand     6                6  ...    6     7      24\n",
              "2    2 Avenue John Fitzgerald Kennedy     3                3  ...    3    20      14\n",
              "3              51 Rue EugÃ¨ne OudinÃ©     3                3  ...    4     4      37\n",
              "4  6 avenue de la Porte de Champerret     3                3  ...    8    17      23\n",
              "\n",
              "[5 rows x 25 columns]"
            ]
          },
          "metadata": {
            "tags": []
          },
          "execution_count": 73
        }
      ]
    },
    {
      "cell_type": "code",
      "metadata": {
        "id": "uCuLlcqcAPw1",
        "colab_type": "code",
        "outputId": "c0edec56-98d3-4c8e-b31b-a1c978ead3f9",
        "colab": {
          "base_uri": "https://localhost:8080/",
          "height": 366
        }
      },
      "source": [
        "df.tail()"
      ],
      "execution_count": 0,
      "outputs": [
        {
          "output_type": "execute_result",
          "data": {
            "text/html": [
              "<div>\n",
              "<style scoped>\n",
              "    .dataframe tbody tr th:only-of-type {\n",
              "        vertical-align: middle;\n",
              "    }\n",
              "\n",
              "    .dataframe tbody tr th {\n",
              "        vertical-align: top;\n",
              "    }\n",
              "\n",
              "    .dataframe thead th {\n",
              "        text-align: right;\n",
              "    }\n",
              "</style>\n",
              "<table border=\"1\" class=\"dataframe\">\n",
              "  <thead>\n",
              "    <tr style=\"text-align: right;\">\n",
              "      <th></th>\n",
              "      <th>Address</th>\n",
              "      <th>Cars</th>\n",
              "      <th>Bluecar counter</th>\n",
              "      <th>Utilib counter</th>\n",
              "      <th>Utilib 1.4 counter</th>\n",
              "      <th>Charge Slots</th>\n",
              "      <th>Charging Status</th>\n",
              "      <th>City</th>\n",
              "      <th>ID</th>\n",
              "      <th>Kind</th>\n",
              "      <th>Postal code</th>\n",
              "      <th>Public name</th>\n",
              "      <th>Rental status</th>\n",
              "      <th>Slots</th>\n",
              "      <th>Station type</th>\n",
              "      <th>Status</th>\n",
              "      <th>Subscription status</th>\n",
              "      <th>year</th>\n",
              "      <th>month</th>\n",
              "      <th>day</th>\n",
              "      <th>hour</th>\n",
              "      <th>minute</th>\n",
              "    </tr>\n",
              "  </thead>\n",
              "  <tbody>\n",
              "    <tr>\n",
              "      <th>4995</th>\n",
              "      <td>8 avenue MÃ©nelotte</td>\n",
              "      <td>2</td>\n",
              "      <td>2</td>\n",
              "      <td>0</td>\n",
              "      <td>0</td>\n",
              "      <td>0</td>\n",
              "      <td>nonexistent</td>\n",
              "      <td>Colombes</td>\n",
              "      <td>colombes-menelotte-8</td>\n",
              "      <td>STATION</td>\n",
              "      <td>92700</td>\n",
              "      <td>Colombes/MÃ©nelotte/8</td>\n",
              "      <td>operational</td>\n",
              "      <td>3</td>\n",
              "      <td>station</td>\n",
              "      <td>ok</td>\n",
              "      <td>nonexistent</td>\n",
              "      <td>2018</td>\n",
              "      <td>4</td>\n",
              "      <td>6</td>\n",
              "      <td>11</td>\n",
              "      <td>26</td>\n",
              "    </tr>\n",
              "    <tr>\n",
              "      <th>4996</th>\n",
              "      <td>37 rue de Dantzig</td>\n",
              "      <td>4</td>\n",
              "      <td>4</td>\n",
              "      <td>0</td>\n",
              "      <td>0</td>\n",
              "      <td>1</td>\n",
              "      <td>operational</td>\n",
              "      <td>Paris</td>\n",
              "      <td>paris-dantzig-37</td>\n",
              "      <td>STATION</td>\n",
              "      <td>75015</td>\n",
              "      <td>Paris/Dantzig/37</td>\n",
              "      <td>operational</td>\n",
              "      <td>2</td>\n",
              "      <td>station</td>\n",
              "      <td>ok</td>\n",
              "      <td>nonexistent</td>\n",
              "      <td>2018</td>\n",
              "      <td>4</td>\n",
              "      <td>4</td>\n",
              "      <td>16</td>\n",
              "      <td>56</td>\n",
              "    </tr>\n",
              "    <tr>\n",
              "      <th>4997</th>\n",
              "      <td>142 rue du Bac</td>\n",
              "      <td>1</td>\n",
              "      <td>1</td>\n",
              "      <td>0</td>\n",
              "      <td>0</td>\n",
              "      <td>1</td>\n",
              "      <td>operational</td>\n",
              "      <td>Paris</td>\n",
              "      <td>paris-bac-142</td>\n",
              "      <td>STATION</td>\n",
              "      <td>75007</td>\n",
              "      <td>Paris/Bac/142</td>\n",
              "      <td>operational</td>\n",
              "      <td>4</td>\n",
              "      <td>station</td>\n",
              "      <td>ok</td>\n",
              "      <td>nonexistent</td>\n",
              "      <td>2018</td>\n",
              "      <td>4</td>\n",
              "      <td>1</td>\n",
              "      <td>7</td>\n",
              "      <td>1</td>\n",
              "    </tr>\n",
              "    <tr>\n",
              "      <th>4998</th>\n",
              "      <td>2 avenue du Val de Fontenay</td>\n",
              "      <td>2</td>\n",
              "      <td>2</td>\n",
              "      <td>0</td>\n",
              "      <td>0</td>\n",
              "      <td>0</td>\n",
              "      <td>nonexistent</td>\n",
              "      <td>Fontenay-Sous-Bois</td>\n",
              "      <td>fontenaysousbois-valdefontenay-2</td>\n",
              "      <td>STATION</td>\n",
              "      <td>94120</td>\n",
              "      <td>Fontenay-Sous-Bois/Val de Fontenay/2</td>\n",
              "      <td>operational</td>\n",
              "      <td>3</td>\n",
              "      <td>station</td>\n",
              "      <td>ok</td>\n",
              "      <td>nonexistent</td>\n",
              "      <td>2018</td>\n",
              "      <td>4</td>\n",
              "      <td>4</td>\n",
              "      <td>17</td>\n",
              "      <td>27</td>\n",
              "    </tr>\n",
              "    <tr>\n",
              "      <th>4999</th>\n",
              "      <td>5 Rue Henry Brisson</td>\n",
              "      <td>4</td>\n",
              "      <td>4</td>\n",
              "      <td>0</td>\n",
              "      <td>0</td>\n",
              "      <td>0</td>\n",
              "      <td>operational</td>\n",
              "      <td>Paris</td>\n",
              "      <td>paris-henrybrisson-5</td>\n",
              "      <td>STATION</td>\n",
              "      <td>75018</td>\n",
              "      <td>Paris/Henry Brisson/5</td>\n",
              "      <td>operational</td>\n",
              "      <td>0</td>\n",
              "      <td>station</td>\n",
              "      <td>ok</td>\n",
              "      <td>nonexistent</td>\n",
              "      <td>2018</td>\n",
              "      <td>4</td>\n",
              "      <td>8</td>\n",
              "      <td>10</td>\n",
              "      <td>2</td>\n",
              "    </tr>\n",
              "  </tbody>\n",
              "</table>\n",
              "</div>"
            ],
            "text/plain": [
              "                          Address  Cars  Bluecar counter  ...  day  hour  minute\n",
              "4995          8 avenue MÃ©nelotte     2                2  ...    6    11      26\n",
              "4996            37 rue de Dantzig     4                4  ...    4    16      56\n",
              "4997               142 rue du Bac     1                1  ...    1     7       1\n",
              "4998  2 avenue du Val de Fontenay     2                2  ...    4    17      27\n",
              "4999          5 Rue Henry Brisson     4                4  ...    8    10       2\n",
              "\n",
              "[5 rows x 22 columns]"
            ]
          },
          "metadata": {
            "tags": []
          },
          "execution_count": 28
        }
      ]
    },
    {
      "cell_type": "code",
      "metadata": {
        "id": "M7_JhGqfLC5S",
        "colab_type": "code",
        "outputId": "25a634c2-d813-487a-b118-4a0a8ae691fa",
        "colab": {
          "base_uri": "https://localhost:8080/",
          "height": 733
        }
      },
      "source": [
        "#viewing the first 10 records of our data\n",
        "df.head(10)"
      ],
      "execution_count": 0,
      "outputs": [
        {
          "output_type": "execute_result",
          "data": {
            "text/html": [
              "<div>\n",
              "<style scoped>\n",
              "    .dataframe tbody tr th:only-of-type {\n",
              "        vertical-align: middle;\n",
              "    }\n",
              "\n",
              "    .dataframe tbody tr th {\n",
              "        vertical-align: top;\n",
              "    }\n",
              "\n",
              "    .dataframe thead th {\n",
              "        text-align: right;\n",
              "    }\n",
              "</style>\n",
              "<table border=\"1\" class=\"dataframe\">\n",
              "  <thead>\n",
              "    <tr style=\"text-align: right;\">\n",
              "      <th></th>\n",
              "      <th>Address</th>\n",
              "      <th>Cars</th>\n",
              "      <th>Bluecar counter</th>\n",
              "      <th>Utilib counter</th>\n",
              "      <th>Utilib 1.4 counter</th>\n",
              "      <th>Charge Slots</th>\n",
              "      <th>Charging Status</th>\n",
              "      <th>City</th>\n",
              "      <th>Displayed comment</th>\n",
              "      <th>ID</th>\n",
              "      <th>Kind</th>\n",
              "      <th>Geo point</th>\n",
              "      <th>Postal code</th>\n",
              "      <th>Public name</th>\n",
              "      <th>Rental status</th>\n",
              "      <th>Scheduled at</th>\n",
              "      <th>Slots</th>\n",
              "      <th>Station type</th>\n",
              "      <th>Status</th>\n",
              "      <th>Subscription status</th>\n",
              "      <th>year</th>\n",
              "      <th>month</th>\n",
              "      <th>day</th>\n",
              "      <th>hour</th>\n",
              "      <th>minute</th>\n",
              "    </tr>\n",
              "  </thead>\n",
              "  <tbody>\n",
              "    <tr>\n",
              "      <th>0</th>\n",
              "      <td>2 Avenue de Suffren</td>\n",
              "      <td>0</td>\n",
              "      <td>0</td>\n",
              "      <td>0</td>\n",
              "      <td>0</td>\n",
              "      <td>0</td>\n",
              "      <td>nonexistent</td>\n",
              "      <td>Paris</td>\n",
              "      <td>NaN</td>\n",
              "      <td>paris-suffren-2</td>\n",
              "      <td>STATION</td>\n",
              "      <td>48.857, 2.2917</td>\n",
              "      <td>75015</td>\n",
              "      <td>Paris/Suffren/2</td>\n",
              "      <td>operational</td>\n",
              "      <td>NaN</td>\n",
              "      <td>2</td>\n",
              "      <td>station</td>\n",
              "      <td>ok</td>\n",
              "      <td>nonexistent</td>\n",
              "      <td>2018</td>\n",
              "      <td>4</td>\n",
              "      <td>8</td>\n",
              "      <td>11</td>\n",
              "      <td>43</td>\n",
              "    </tr>\n",
              "    <tr>\n",
              "      <th>1</th>\n",
              "      <td>145 Rue Raymond Losserand</td>\n",
              "      <td>6</td>\n",
              "      <td>6</td>\n",
              "      <td>0</td>\n",
              "      <td>0</td>\n",
              "      <td>0</td>\n",
              "      <td>operational</td>\n",
              "      <td>Paris</td>\n",
              "      <td>NaN</td>\n",
              "      <td>paris-raymondlosserand-145</td>\n",
              "      <td>STATION</td>\n",
              "      <td>48.83126, 2.313088</td>\n",
              "      <td>75014</td>\n",
              "      <td>Paris/Raymond Losserand/145</td>\n",
              "      <td>operational</td>\n",
              "      <td>NaN</td>\n",
              "      <td>0</td>\n",
              "      <td>station</td>\n",
              "      <td>ok</td>\n",
              "      <td>nonexistent</td>\n",
              "      <td>2018</td>\n",
              "      <td>4</td>\n",
              "      <td>6</td>\n",
              "      <td>7</td>\n",
              "      <td>24</td>\n",
              "    </tr>\n",
              "    <tr>\n",
              "      <th>2</th>\n",
              "      <td>2 Avenue John Fitzgerald Kennedy</td>\n",
              "      <td>3</td>\n",
              "      <td>3</td>\n",
              "      <td>0</td>\n",
              "      <td>2</td>\n",
              "      <td>0</td>\n",
              "      <td>operational</td>\n",
              "      <td>Le Bourget</td>\n",
              "      <td>NaN</td>\n",
              "      <td>lebourget-johnfitzgeraldkennedy-2</td>\n",
              "      <td>STATION</td>\n",
              "      <td>48.938103, 2.4286035</td>\n",
              "      <td>93350</td>\n",
              "      <td>Le Bourget/John Fitzgerald Kennedy/2</td>\n",
              "      <td>operational</td>\n",
              "      <td>NaN</td>\n",
              "      <td>1</td>\n",
              "      <td>station</td>\n",
              "      <td>ok</td>\n",
              "      <td>nonexistent</td>\n",
              "      <td>2018</td>\n",
              "      <td>4</td>\n",
              "      <td>3</td>\n",
              "      <td>20</td>\n",
              "      <td>14</td>\n",
              "    </tr>\n",
              "    <tr>\n",
              "      <th>3</th>\n",
              "      <td>51 Rue EugÃ¨ne OudinÃ©</td>\n",
              "      <td>3</td>\n",
              "      <td>3</td>\n",
              "      <td>1</td>\n",
              "      <td>0</td>\n",
              "      <td>1</td>\n",
              "      <td>operational</td>\n",
              "      <td>Paris</td>\n",
              "      <td>NaN</td>\n",
              "      <td>paris-eugeneoudine-51</td>\n",
              "      <td>STATION</td>\n",
              "      <td>48.8250327, 2.3725162</td>\n",
              "      <td>75013</td>\n",
              "      <td>Paris/EugÃ¨ne OudinÃ©/51</td>\n",
              "      <td>operational</td>\n",
              "      <td>NaN</td>\n",
              "      <td>2</td>\n",
              "      <td>station</td>\n",
              "      <td>ok</td>\n",
              "      <td>nonexistent</td>\n",
              "      <td>2018</td>\n",
              "      <td>4</td>\n",
              "      <td>4</td>\n",
              "      <td>4</td>\n",
              "      <td>37</td>\n",
              "    </tr>\n",
              "    <tr>\n",
              "      <th>4</th>\n",
              "      <td>6 avenue de la Porte de Champerret</td>\n",
              "      <td>3</td>\n",
              "      <td>3</td>\n",
              "      <td>0</td>\n",
              "      <td>0</td>\n",
              "      <td>0</td>\n",
              "      <td>nonexistent</td>\n",
              "      <td>Paris</td>\n",
              "      <td>NaN</td>\n",
              "      <td>paris-portedechamperret-6</td>\n",
              "      <td>PARKING</td>\n",
              "      <td>48.8862632, 2.2874511</td>\n",
              "      <td>75017</td>\n",
              "      <td>Paris/Porte de Champerret/6</td>\n",
              "      <td>operational</td>\n",
              "      <td>NaN</td>\n",
              "      <td>3</td>\n",
              "      <td>station</td>\n",
              "      <td>ok</td>\n",
              "      <td>nonexistent</td>\n",
              "      <td>2018</td>\n",
              "      <td>4</td>\n",
              "      <td>8</td>\n",
              "      <td>17</td>\n",
              "      <td>23</td>\n",
              "    </tr>\n",
              "    <tr>\n",
              "      <th>5</th>\n",
              "      <td>8 Boulevard Voltaire</td>\n",
              "      <td>0</td>\n",
              "      <td>0</td>\n",
              "      <td>0</td>\n",
              "      <td>0</td>\n",
              "      <td>0</td>\n",
              "      <td>nonexistent</td>\n",
              "      <td>Paris</td>\n",
              "      <td>NaN</td>\n",
              "      <td>paris-voltaire-8</td>\n",
              "      <td>STATION</td>\n",
              "      <td>48.8657658, 2.3664376</td>\n",
              "      <td>75011</td>\n",
              "      <td>Paris/Voltaire/8</td>\n",
              "      <td>operational</td>\n",
              "      <td>NaN</td>\n",
              "      <td>4</td>\n",
              "      <td>station</td>\n",
              "      <td>ok</td>\n",
              "      <td>nonexistent</td>\n",
              "      <td>2018</td>\n",
              "      <td>4</td>\n",
              "      <td>6</td>\n",
              "      <td>7</td>\n",
              "      <td>2</td>\n",
              "    </tr>\n",
              "    <tr>\n",
              "      <th>6</th>\n",
              "      <td>37 rue Leblanc</td>\n",
              "      <td>0</td>\n",
              "      <td>0</td>\n",
              "      <td>0</td>\n",
              "      <td>0</td>\n",
              "      <td>0</td>\n",
              "      <td>nonexistent</td>\n",
              "      <td>Paris</td>\n",
              "      <td>Station en parking (niv -1), accÃ¨s 37 rue Leb...</td>\n",
              "      <td>paris-citroencevennes-parking</td>\n",
              "      <td>PARKING</td>\n",
              "      <td>48.83874, 2.27641</td>\n",
              "      <td>75015</td>\n",
              "      <td>Paris/CitroÃ«n CÃ©vennes/Parking</td>\n",
              "      <td>broken</td>\n",
              "      <td>NaN</td>\n",
              "      <td>0</td>\n",
              "      <td>station</td>\n",
              "      <td>closed</td>\n",
              "      <td>nonexistent</td>\n",
              "      <td>2018</td>\n",
              "      <td>4</td>\n",
              "      <td>8</td>\n",
              "      <td>18</td>\n",
              "      <td>20</td>\n",
              "    </tr>\n",
              "    <tr>\n",
              "      <th>7</th>\n",
              "      <td>17 Rue des Luaps ProlongÃ©e</td>\n",
              "      <td>3</td>\n",
              "      <td>3</td>\n",
              "      <td>1</td>\n",
              "      <td>0</td>\n",
              "      <td>0</td>\n",
              "      <td>nonexistent</td>\n",
              "      <td>Nanterre</td>\n",
              "      <td>NaN</td>\n",
              "      <td>nanterre-luaps-17</td>\n",
              "      <td>STATION</td>\n",
              "      <td>48.88069, 2.21063</td>\n",
              "      <td>92000</td>\n",
              "      <td>Nanterre/Luaps/17</td>\n",
              "      <td>operational</td>\n",
              "      <td>NaN</td>\n",
              "      <td>0</td>\n",
              "      <td>station</td>\n",
              "      <td>ok</td>\n",
              "      <td>nonexistent</td>\n",
              "      <td>2018</td>\n",
              "      <td>4</td>\n",
              "      <td>4</td>\n",
              "      <td>22</td>\n",
              "      <td>13</td>\n",
              "    </tr>\n",
              "    <tr>\n",
              "      <th>8</th>\n",
              "      <td>34 avenue Jean Moulin</td>\n",
              "      <td>1</td>\n",
              "      <td>1</td>\n",
              "      <td>0</td>\n",
              "      <td>0</td>\n",
              "      <td>0</td>\n",
              "      <td>nonexistent</td>\n",
              "      <td>Paris</td>\n",
              "      <td>NaN</td>\n",
              "      <td>paris-jeanmoulin-34</td>\n",
              "      <td>STATION</td>\n",
              "      <td>48.8266807, 2.3237355</td>\n",
              "      <td>75014</td>\n",
              "      <td>Paris/Jean Moulin/34</td>\n",
              "      <td>operational</td>\n",
              "      <td>NaN</td>\n",
              "      <td>4</td>\n",
              "      <td>station</td>\n",
              "      <td>ok</td>\n",
              "      <td>nonexistent</td>\n",
              "      <td>2018</td>\n",
              "      <td>4</td>\n",
              "      <td>2</td>\n",
              "      <td>22</td>\n",
              "      <td>58</td>\n",
              "    </tr>\n",
              "    <tr>\n",
              "      <th>9</th>\n",
              "      <td>41 boulevard de Rochechouart</td>\n",
              "      <td>6</td>\n",
              "      <td>6</td>\n",
              "      <td>0</td>\n",
              "      <td>0</td>\n",
              "      <td>0</td>\n",
              "      <td>nonexistent</td>\n",
              "      <td>Paris</td>\n",
              "      <td>NaN</td>\n",
              "      <td>paris-anvers-parking</td>\n",
              "      <td>PARKING</td>\n",
              "      <td>48.88267, 2.34405</td>\n",
              "      <td>75009</td>\n",
              "      <td>Paris/Anvers/Parking</td>\n",
              "      <td>operational</td>\n",
              "      <td>NaN</td>\n",
              "      <td>0</td>\n",
              "      <td>station</td>\n",
              "      <td>ok</td>\n",
              "      <td>nonexistent</td>\n",
              "      <td>2018</td>\n",
              "      <td>4</td>\n",
              "      <td>4</td>\n",
              "      <td>15</td>\n",
              "      <td>2</td>\n",
              "    </tr>\n",
              "  </tbody>\n",
              "</table>\n",
              "</div>"
            ],
            "text/plain": [
              "                              Address  Cars  Bluecar counter  ...  day  hour  minute\n",
              "0                 2 Avenue de Suffren     0                0  ...    8    11      43\n",
              "1           145 Rue Raymond Losserand     6                6  ...    6     7      24\n",
              "2    2 Avenue John Fitzgerald Kennedy     3                3  ...    3    20      14\n",
              "3              51 Rue EugÃ¨ne OudinÃ©     3                3  ...    4     4      37\n",
              "4  6 avenue de la Porte de Champerret     3                3  ...    8    17      23\n",
              "5                8 Boulevard Voltaire     0                0  ...    6     7       2\n",
              "6                      37 rue Leblanc     0                0  ...    8    18      20\n",
              "7         17 Rue des Luaps ProlongÃ©e     3                3  ...    4    22      13\n",
              "8               34 avenue Jean Moulin     1                1  ...    2    22      58\n",
              "9        41 boulevard de Rochechouart     6                6  ...    4    15       2\n",
              "\n",
              "[10 rows x 25 columns]"
            ]
          },
          "metadata": {
            "tags": []
          },
          "execution_count": 4
        }
      ]
    },
    {
      "cell_type": "markdown",
      "metadata": {
        "id": "s90tNgOxLleI",
        "colab_type": "text"
      },
      "source": [
        "Accessing information about our datasets"
      ]
    },
    {
      "cell_type": "code",
      "metadata": {
        "id": "J7aQ32isLSmA",
        "colab_type": "code",
        "outputId": "76455106-2f26-448b-e729-0ee41d387a2a",
        "colab": {
          "base_uri": "https://localhost:8080/",
          "height": 34
        }
      },
      "source": [
        "#investigating the size of our dataset\n",
        "df.shape"
      ],
      "execution_count": 0,
      "outputs": [
        {
          "output_type": "execute_result",
          "data": {
            "text/plain": [
              "(5000, 25)"
            ]
          },
          "metadata": {
            "tags": []
          },
          "execution_count": 5
        }
      ]
    },
    {
      "cell_type": "code",
      "metadata": {
        "id": "kQuDhfZAMBRb",
        "colab_type": "code",
        "outputId": "3e9d91c3-0beb-49d1-bedd-d62cd64f0063",
        "colab": {
          "base_uri": "https://localhost:8080/",
          "height": 554
        }
      },
      "source": [
        "#investigating the datatypes of our dataset\n",
        "df.info()"
      ],
      "execution_count": 0,
      "outputs": [
        {
          "output_type": "stream",
          "text": [
            "<class 'pandas.core.frame.DataFrame'>\n",
            "RangeIndex: 5000 entries, 0 to 4999\n",
            "Data columns (total 25 columns):\n",
            " #   Column               Non-Null Count  Dtype \n",
            "---  ------               --------------  ----- \n",
            " 0   Address              5000 non-null   object\n",
            " 1   Cars                 5000 non-null   int64 \n",
            " 2   Bluecar counter      5000 non-null   int64 \n",
            " 3   Utilib counter       5000 non-null   int64 \n",
            " 4   Utilib 1.4 counter   5000 non-null   int64 \n",
            " 5   Charge Slots         5000 non-null   int64 \n",
            " 6   Charging Status      5000 non-null   object\n",
            " 7   City                 5000 non-null   object\n",
            " 8   Displayed comment    111 non-null    object\n",
            " 9   ID                   5000 non-null   object\n",
            " 10  Kind                 5000 non-null   object\n",
            " 11  Geo point            5000 non-null   object\n",
            " 12  Postal code          5000 non-null   int64 \n",
            " 13  Public name          5000 non-null   object\n",
            " 14  Rental status        5000 non-null   object\n",
            " 15  Scheduled at         47 non-null     object\n",
            " 16  Slots                5000 non-null   int64 \n",
            " 17  Station type         5000 non-null   object\n",
            " 18  Status               5000 non-null   object\n",
            " 19  Subscription status  5000 non-null   object\n",
            " 20  year                 5000 non-null   int64 \n",
            " 21  month                5000 non-null   int64 \n",
            " 22  day                  5000 non-null   int64 \n",
            " 23  hour                 5000 non-null   int64 \n",
            " 24  minute               5000 non-null   int64 \n",
            "dtypes: int64(12), object(13)\n",
            "memory usage: 976.7+ KB\n"
          ],
          "name": "stdout"
        }
      ]
    },
    {
      "cell_type": "code",
      "metadata": {
        "id": "DiCs-F2fAvLz",
        "colab_type": "code",
        "outputId": "97ad96e5-7b9b-4a28-dea8-5e627ade04de",
        "colab": {
          "base_uri": "https://localhost:8080/",
          "height": 118
        }
      },
      "source": [
        "#viewing columns\n",
        "df.columns"
      ],
      "execution_count": 0,
      "outputs": [
        {
          "output_type": "execute_result",
          "data": {
            "text/plain": [
              "Index(['Address', 'Cars', 'Bluecar counter', 'Utilib counter',\n",
              "       'Utilib 1.4 counter', 'Charge Slots', 'Charging Status', 'City', 'ID',\n",
              "       'Kind', 'Postal code', 'Public name', 'Rental status', 'Slots',\n",
              "       'Station type', 'Status', 'Subscription status', 'year', 'month', 'day',\n",
              "       'hour', 'minute'],\n",
              "      dtype='object')"
            ]
          },
          "metadata": {
            "tags": []
          },
          "execution_count": 29
        }
      ]
    },
    {
      "cell_type": "code",
      "metadata": {
        "id": "UNuQNpKBBBMs",
        "colab_type": "code",
        "outputId": "b48b4772-ebba-48a7-815f-0a8fa90dc968",
        "colab": {
          "base_uri": "https://localhost:8080/",
          "height": 403
        }
      },
      "source": [
        "#checking data types in each column\n",
        "df.dtypes"
      ],
      "execution_count": 0,
      "outputs": [
        {
          "output_type": "execute_result",
          "data": {
            "text/plain": [
              "Address                object\n",
              "Cars                    int64\n",
              "Bluecar counter         int64\n",
              "Utilib counter          int64\n",
              "Utilib 1.4 counter      int64\n",
              "Charge Slots            int64\n",
              "Charging Status        object\n",
              "City                   object\n",
              "ID                     object\n",
              "Kind                   object\n",
              "Postal code             int64\n",
              "Public name            object\n",
              "Rental status          object\n",
              "Slots                   int64\n",
              "Station type           object\n",
              "Status                 object\n",
              "Subscription status    object\n",
              "year                    int64\n",
              "month                   int64\n",
              "day                     int64\n",
              "hour                    int64\n",
              "minute                  int64\n",
              "dtype: object"
            ]
          },
          "metadata": {
            "tags": []
          },
          "execution_count": 31
        }
      ]
    },
    {
      "cell_type": "code",
      "metadata": {
        "id": "vbO4LE2zChC5",
        "colab_type": "code",
        "outputId": "be038951-007b-4c1c-bfa1-5fa21fc98bc1",
        "colab": {
          "base_uri": "https://localhost:8080/",
          "height": 34
        }
      },
      "source": [
        "#checking the number of unique items in categorical data\n",
        "df.Address.unique()\n",
        "df.Address.nunique()"
      ],
      "execution_count": 0,
      "outputs": [
        {
          "output_type": "execute_result",
          "data": {
            "text/plain": [
              "1104"
            ]
          },
          "metadata": {
            "tags": []
          },
          "execution_count": 33
        }
      ]
    },
    {
      "cell_type": "code",
      "metadata": {
        "id": "4jCBEqkbD0xq",
        "colab_type": "code",
        "outputId": "00fb18e1-6a60-4ee1-d781-2fc41047e531",
        "colab": {
          "base_uri": "https://localhost:8080/",
          "height": 34
        }
      },
      "source": [
        "#checking the number of unique items in categorical data\n",
        "df.City.unique()\n",
        "df.City.nunique()"
      ],
      "execution_count": 0,
      "outputs": [
        {
          "output_type": "execute_result",
          "data": {
            "text/plain": [
              "88"
            ]
          },
          "metadata": {
            "tags": []
          },
          "execution_count": 37
        }
      ]
    },
    {
      "cell_type": "code",
      "metadata": {
        "id": "NyjyoewvFgyB",
        "colab_type": "code",
        "outputId": "b241be7a-095a-439c-e8ac-33927de08699",
        "colab": {
          "base_uri": "https://localhost:8080/",
          "height": 34
        }
      },
      "source": [
        "#checking the number of unique items in categorical data\n",
        "df.ID.unique()\n",
        "df.ID.nunique()"
      ],
      "execution_count": 0,
      "outputs": [
        {
          "output_type": "execute_result",
          "data": {
            "text/plain": [
              "1105"
            ]
          },
          "metadata": {
            "tags": []
          },
          "execution_count": 38
        }
      ]
    },
    {
      "cell_type": "code",
      "metadata": {
        "id": "PfCCBL8jFuY_",
        "colab_type": "code",
        "outputId": "f7e51f40-4587-4e9f-b2bf-1ebdff6d9f40",
        "colab": {
          "base_uri": "https://localhost:8080/",
          "height": 34
        }
      },
      "source": [
        "#checking the number of unique items in categorical data\n",
        "df.Kind.unique()\n",
        "df.Kind.nunique()"
      ],
      "execution_count": 0,
      "outputs": [
        {
          "output_type": "execute_result",
          "data": {
            "text/plain": [
              "4"
            ]
          },
          "metadata": {
            "tags": []
          },
          "execution_count": 39
        }
      ]
    },
    {
      "cell_type": "code",
      "metadata": {
        "id": "sagfIoCqF3OQ",
        "colab_type": "code",
        "outputId": "e5fbcd4c-46f0-4db7-ba00-11ca37b5b20e",
        "colab": {
          "base_uri": "https://localhost:8080/",
          "height": 34
        }
      },
      "source": [
        "#checking the number of unique items in categorical data\n",
        "df.Status.unique()\n",
        "df.Status.nunique()"
      ],
      "execution_count": 0,
      "outputs": [
        {
          "output_type": "execute_result",
          "data": {
            "text/plain": [
              "3"
            ]
          },
          "metadata": {
            "tags": []
          },
          "execution_count": 40
        }
      ]
    },
    {
      "cell_type": "code",
      "metadata": {
        "id": "3YE404gAGmaz",
        "colab_type": "code",
        "outputId": "c8bc756d-db84-4f6b-b169-823eeeeb060d",
        "colab": {
          "base_uri": "https://localhost:8080/",
          "height": 301
        }
      },
      "source": [
        "#descriptive statistics\n",
        "df.describe()"
      ],
      "execution_count": 0,
      "outputs": [
        {
          "output_type": "execute_result",
          "data": {
            "text/html": [
              "<div>\n",
              "<style scoped>\n",
              "    .dataframe tbody tr th:only-of-type {\n",
              "        vertical-align: middle;\n",
              "    }\n",
              "\n",
              "    .dataframe tbody tr th {\n",
              "        vertical-align: top;\n",
              "    }\n",
              "\n",
              "    .dataframe thead th {\n",
              "        text-align: right;\n",
              "    }\n",
              "</style>\n",
              "<table border=\"1\" class=\"dataframe\">\n",
              "  <thead>\n",
              "    <tr style=\"text-align: right;\">\n",
              "      <th></th>\n",
              "      <th>Cars</th>\n",
              "      <th>Bluecar counter</th>\n",
              "      <th>Utilib counter</th>\n",
              "      <th>Utilib 1.4 counter</th>\n",
              "      <th>Charge Slots</th>\n",
              "      <th>Postal code</th>\n",
              "      <th>Slots</th>\n",
              "      <th>year</th>\n",
              "      <th>month</th>\n",
              "      <th>day</th>\n",
              "      <th>hour</th>\n",
              "      <th>minute</th>\n",
              "    </tr>\n",
              "  </thead>\n",
              "  <tbody>\n",
              "    <tr>\n",
              "      <th>count</th>\n",
              "      <td>5000.000000</td>\n",
              "      <td>5000.000000</td>\n",
              "      <td>5000.000000</td>\n",
              "      <td>5000.000000</td>\n",
              "      <td>5000.000000</td>\n",
              "      <td>5000.000000</td>\n",
              "      <td>5000.000000</td>\n",
              "      <td>5000.0</td>\n",
              "      <td>5000.0</td>\n",
              "      <td>5000.000000</td>\n",
              "      <td>5000.000000</td>\n",
              "      <td>5000.000000</td>\n",
              "    </tr>\n",
              "    <tr>\n",
              "      <th>mean</th>\n",
              "      <td>2.333600</td>\n",
              "      <td>2.333600</td>\n",
              "      <td>0.059600</td>\n",
              "      <td>0.123000</td>\n",
              "      <td>0.253400</td>\n",
              "      <td>82634.878400</td>\n",
              "      <td>1.932400</td>\n",
              "      <td>2018.0</td>\n",
              "      <td>4.0</td>\n",
              "      <td>4.941600</td>\n",
              "      <td>11.509200</td>\n",
              "      <td>29.270000</td>\n",
              "    </tr>\n",
              "    <tr>\n",
              "      <th>std</th>\n",
              "      <td>2.035274</td>\n",
              "      <td>2.035274</td>\n",
              "      <td>0.246698</td>\n",
              "      <td>0.356506</td>\n",
              "      <td>0.546304</td>\n",
              "      <td>8835.865721</td>\n",
              "      <td>1.905402</td>\n",
              "      <td>0.0</td>\n",
              "      <td>0.0</td>\n",
              "      <td>2.597063</td>\n",
              "      <td>6.893549</td>\n",
              "      <td>17.231741</td>\n",
              "    </tr>\n",
              "    <tr>\n",
              "      <th>min</th>\n",
              "      <td>0.000000</td>\n",
              "      <td>0.000000</td>\n",
              "      <td>0.000000</td>\n",
              "      <td>0.000000</td>\n",
              "      <td>0.000000</td>\n",
              "      <td>75001.000000</td>\n",
              "      <td>0.000000</td>\n",
              "      <td>2018.0</td>\n",
              "      <td>4.0</td>\n",
              "      <td>1.000000</td>\n",
              "      <td>0.000000</td>\n",
              "      <td>0.000000</td>\n",
              "    </tr>\n",
              "    <tr>\n",
              "      <th>25%</th>\n",
              "      <td>0.000000</td>\n",
              "      <td>0.000000</td>\n",
              "      <td>0.000000</td>\n",
              "      <td>0.000000</td>\n",
              "      <td>0.000000</td>\n",
              "      <td>75012.000000</td>\n",
              "      <td>0.000000</td>\n",
              "      <td>2018.0</td>\n",
              "      <td>4.0</td>\n",
              "      <td>3.000000</td>\n",
              "      <td>6.000000</td>\n",
              "      <td>14.000000</td>\n",
              "    </tr>\n",
              "    <tr>\n",
              "      <th>50%</th>\n",
              "      <td>2.000000</td>\n",
              "      <td>2.000000</td>\n",
              "      <td>0.000000</td>\n",
              "      <td>0.000000</td>\n",
              "      <td>0.000000</td>\n",
              "      <td>75019.000000</td>\n",
              "      <td>1.000000</td>\n",
              "      <td>2018.0</td>\n",
              "      <td>4.0</td>\n",
              "      <td>5.000000</td>\n",
              "      <td>11.000000</td>\n",
              "      <td>29.000000</td>\n",
              "    </tr>\n",
              "    <tr>\n",
              "      <th>75%</th>\n",
              "      <td>4.000000</td>\n",
              "      <td>4.000000</td>\n",
              "      <td>0.000000</td>\n",
              "      <td>0.000000</td>\n",
              "      <td>0.000000</td>\n",
              "      <td>92320.000000</td>\n",
              "      <td>3.000000</td>\n",
              "      <td>2018.0</td>\n",
              "      <td>4.0</td>\n",
              "      <td>7.000000</td>\n",
              "      <td>18.000000</td>\n",
              "      <td>44.000000</td>\n",
              "    </tr>\n",
              "    <tr>\n",
              "      <th>max</th>\n",
              "      <td>7.000000</td>\n",
              "      <td>7.000000</td>\n",
              "      <td>2.000000</td>\n",
              "      <td>3.000000</td>\n",
              "      <td>2.000000</td>\n",
              "      <td>95880.000000</td>\n",
              "      <td>7.000000</td>\n",
              "      <td>2018.0</td>\n",
              "      <td>4.0</td>\n",
              "      <td>9.000000</td>\n",
              "      <td>23.000000</td>\n",
              "      <td>59.000000</td>\n",
              "    </tr>\n",
              "  </tbody>\n",
              "</table>\n",
              "</div>"
            ],
            "text/plain": [
              "              Cars  Bluecar counter  ...         hour       minute\n",
              "count  5000.000000      5000.000000  ...  5000.000000  5000.000000\n",
              "mean      2.333600         2.333600  ...    11.509200    29.270000\n",
              "std       2.035274         2.035274  ...     6.893549    17.231741\n",
              "min       0.000000         0.000000  ...     0.000000     0.000000\n",
              "25%       0.000000         0.000000  ...     6.000000    14.000000\n",
              "50%       2.000000         2.000000  ...    11.000000    29.000000\n",
              "75%       4.000000         4.000000  ...    18.000000    44.000000\n",
              "max       7.000000         7.000000  ...    23.000000    59.000000\n",
              "\n",
              "[8 rows x 12 columns]"
            ]
          },
          "metadata": {
            "tags": []
          },
          "execution_count": 41
        }
      ]
    },
    {
      "cell_type": "markdown",
      "metadata": {
        "id": "uToUWJ4kNR3V",
        "colab_type": "text"
      },
      "source": [
        "CLEANING OUR DATASET\n",
        "\n",
        "Validity"
      ]
    },
    {
      "cell_type": "code",
      "metadata": {
        "id": "kLvtba2_MXSm",
        "colab_type": "code",
        "outputId": "7c00006d-8df8-4191-abb7-f6875bbc64af",
        "colab": {
          "base_uri": "https://localhost:8080/",
          "height": 118
        }
      },
      "source": [
        "#checking which columns are relevant and dropping irrelevant columns\n",
        "#dropping displayed comments and scheduled at as both columns contain rows that are mostly blank \n",
        "#and geo point column as it is irrelevant to our analysis\n",
        "#\n",
        "df.drop([\"Displayed comment\", \"Scheduled at\", \"Geo point\"], axis = 1, inplace = True)\n",
        "df.columns"
      ],
      "execution_count": 5,
      "outputs": [
        {
          "output_type": "execute_result",
          "data": {
            "text/plain": [
              "Index(['Address', 'Cars', 'Bluecar counter', 'Utilib counter',\n",
              "       'Utilib 1.4 counter', 'Charge Slots', 'Charging Status', 'City', 'ID',\n",
              "       'Kind', 'Postal code', 'Public name', 'Rental status', 'Slots',\n",
              "       'Station type', 'Status', 'Subscription status', 'year', 'month', 'day',\n",
              "       'hour', 'minute'],\n",
              "      dtype='object')"
            ]
          },
          "metadata": {
            "tags": []
          },
          "execution_count": 5
        }
      ]
    },
    {
      "cell_type": "code",
      "metadata": {
        "id": "-t6QRu9iNAgp",
        "colab_type": "code",
        "outputId": "aa71c0ba-db5f-4173-fb8e-ab4c99ea563f",
        "colab": {
          "base_uri": "https://localhost:8080/",
          "height": 504
        }
      },
      "source": [
        "#checking data types\n",
        "df.info()"
      ],
      "execution_count": 0,
      "outputs": [
        {
          "output_type": "stream",
          "text": [
            "<class 'pandas.core.frame.DataFrame'>\n",
            "RangeIndex: 5000 entries, 0 to 4999\n",
            "Data columns (total 22 columns):\n",
            " #   Column               Non-Null Count  Dtype \n",
            "---  ------               --------------  ----- \n",
            " 0   Address              5000 non-null   object\n",
            " 1   Cars                 5000 non-null   int64 \n",
            " 2   Bluecar counter      5000 non-null   int64 \n",
            " 3   Utilib counter       5000 non-null   int64 \n",
            " 4   Utilib 1.4 counter   5000 non-null   int64 \n",
            " 5   Charge Slots         5000 non-null   int64 \n",
            " 6   Charging Status      5000 non-null   object\n",
            " 7   City                 5000 non-null   object\n",
            " 8   ID                   5000 non-null   object\n",
            " 9   Kind                 5000 non-null   object\n",
            " 10  Postal code          5000 non-null   int64 \n",
            " 11  Public name          5000 non-null   object\n",
            " 12  Rental status        5000 non-null   object\n",
            " 13  Slots                5000 non-null   int64 \n",
            " 14  Station type         5000 non-null   object\n",
            " 15  Status               5000 non-null   object\n",
            " 16  Subscription status  5000 non-null   object\n",
            " 17  year                 5000 non-null   int64 \n",
            " 18  month                5000 non-null   int64 \n",
            " 19  day                  5000 non-null   int64 \n",
            " 20  hour                 5000 non-null   int64 \n",
            " 21  minute               5000 non-null   int64 \n",
            "dtypes: int64(12), object(10)\n",
            "memory usage: 859.5+ KB\n"
          ],
          "name": "stdout"
        }
      ]
    },
    {
      "cell_type": "markdown",
      "metadata": {
        "id": "PNjPby-sZba-",
        "colab_type": "text"
      },
      "source": [
        "Accuracy"
      ]
    },
    {
      "cell_type": "code",
      "metadata": {
        "id": "GDazeKoWSihL",
        "colab_type": "code",
        "outputId": "e061bfea-03df-4465-c108-3900ecfd79dc",
        "colab": {
          "base_uri": "https://localhost:8080/",
          "height": 218
        }
      },
      "source": [
        "#checking for accuracy of our data\n",
        "#checking if car is equal to bluecar counter\n",
        "cars_check = df['Cars'] == df['Bluecar counter']\n",
        "cars_check\n",
        "#we conclude accuracy of that data"
      ],
      "execution_count": 0,
      "outputs": [
        {
          "output_type": "execute_result",
          "data": {
            "text/plain": [
              "0       True\n",
              "1       True\n",
              "2       True\n",
              "3       True\n",
              "4       True\n",
              "        ... \n",
              "4995    True\n",
              "4996    True\n",
              "4997    True\n",
              "4998    True\n",
              "4999    True\n",
              "Length: 5000, dtype: bool"
            ]
          },
          "metadata": {
            "tags": []
          },
          "execution_count": 11
        }
      ]
    },
    {
      "cell_type": "code",
      "metadata": {
        "id": "ae1K4q2vi9-u",
        "colab_type": "code",
        "outputId": "14649036-a905-4a58-acb0-f5a7c03bd8fe",
        "colab": {
          "base_uri": "https://localhost:8080/",
          "height": 724
        }
      },
      "source": [
        "#checking for charging status\n",
        "slot_check = df[(df[\"Charge Slots\"] > 0) & (df[\"Charging Status\"] == 'operational')]\n",
        "slot_check\n",
        "#we conclude accuracy of that data"
      ],
      "execution_count": 0,
      "outputs": [
        {
          "output_type": "execute_result",
          "data": {
            "text/html": [
              "<div>\n",
              "<style scoped>\n",
              "    .dataframe tbody tr th:only-of-type {\n",
              "        vertical-align: middle;\n",
              "    }\n",
              "\n",
              "    .dataframe tbody tr th {\n",
              "        vertical-align: top;\n",
              "    }\n",
              "\n",
              "    .dataframe thead th {\n",
              "        text-align: right;\n",
              "    }\n",
              "</style>\n",
              "<table border=\"1\" class=\"dataframe\">\n",
              "  <thead>\n",
              "    <tr style=\"text-align: right;\">\n",
              "      <th></th>\n",
              "      <th>Address</th>\n",
              "      <th>Cars</th>\n",
              "      <th>Bluecar counter</th>\n",
              "      <th>Utilib counter</th>\n",
              "      <th>Utilib 1.4 counter</th>\n",
              "      <th>Charge Slots</th>\n",
              "      <th>Charging Status</th>\n",
              "      <th>City</th>\n",
              "      <th>ID</th>\n",
              "      <th>Kind</th>\n",
              "      <th>Postal code</th>\n",
              "      <th>Public name</th>\n",
              "      <th>Rental status</th>\n",
              "      <th>Slots</th>\n",
              "      <th>Station type</th>\n",
              "      <th>Status</th>\n",
              "      <th>Subscription status</th>\n",
              "      <th>year</th>\n",
              "      <th>month</th>\n",
              "      <th>day</th>\n",
              "      <th>hour</th>\n",
              "      <th>minute</th>\n",
              "    </tr>\n",
              "  </thead>\n",
              "  <tbody>\n",
              "    <tr>\n",
              "      <th>3</th>\n",
              "      <td>51 Rue EugÃ¨ne OudinÃ©</td>\n",
              "      <td>3</td>\n",
              "      <td>3</td>\n",
              "      <td>1</td>\n",
              "      <td>0</td>\n",
              "      <td>1</td>\n",
              "      <td>operational</td>\n",
              "      <td>Paris</td>\n",
              "      <td>paris-eugeneoudine-51</td>\n",
              "      <td>STATION</td>\n",
              "      <td>75013</td>\n",
              "      <td>Paris/EugÃ¨ne OudinÃ©/51</td>\n",
              "      <td>operational</td>\n",
              "      <td>2</td>\n",
              "      <td>station</td>\n",
              "      <td>ok</td>\n",
              "      <td>nonexistent</td>\n",
              "      <td>2018</td>\n",
              "      <td>4</td>\n",
              "      <td>4</td>\n",
              "      <td>4</td>\n",
              "      <td>37</td>\n",
              "    </tr>\n",
              "    <tr>\n",
              "      <th>10</th>\n",
              "      <td>14 rue Censier</td>\n",
              "      <td>0</td>\n",
              "      <td>0</td>\n",
              "      <td>0</td>\n",
              "      <td>0</td>\n",
              "      <td>2</td>\n",
              "      <td>operational</td>\n",
              "      <td>Paris</td>\n",
              "      <td>paris-censier-14</td>\n",
              "      <td>STATION</td>\n",
              "      <td>75005</td>\n",
              "      <td>Paris/Censier/14</td>\n",
              "      <td>operational</td>\n",
              "      <td>6</td>\n",
              "      <td>station</td>\n",
              "      <td>ok</td>\n",
              "      <td>nonexistent</td>\n",
              "      <td>2018</td>\n",
              "      <td>4</td>\n",
              "      <td>1</td>\n",
              "      <td>4</td>\n",
              "      <td>39</td>\n",
              "    </tr>\n",
              "    <tr>\n",
              "      <th>14</th>\n",
              "      <td>8 Boulevard Richard Lenoir</td>\n",
              "      <td>0</td>\n",
              "      <td>0</td>\n",
              "      <td>0</td>\n",
              "      <td>0</td>\n",
              "      <td>1</td>\n",
              "      <td>operational</td>\n",
              "      <td>Paris</td>\n",
              "      <td>paris-richardlenoir-8</td>\n",
              "      <td>STATION</td>\n",
              "      <td>75011</td>\n",
              "      <td>Paris/Richard Lenoir/8</td>\n",
              "      <td>operational</td>\n",
              "      <td>4</td>\n",
              "      <td>station</td>\n",
              "      <td>ok</td>\n",
              "      <td>nonexistent</td>\n",
              "      <td>2018</td>\n",
              "      <td>4</td>\n",
              "      <td>6</td>\n",
              "      <td>8</td>\n",
              "      <td>0</td>\n",
              "    </tr>\n",
              "    <tr>\n",
              "      <th>24</th>\n",
              "      <td>15 avenue Ãmile Deschanel</td>\n",
              "      <td>2</td>\n",
              "      <td>2</td>\n",
              "      <td>0</td>\n",
              "      <td>0</td>\n",
              "      <td>1</td>\n",
              "      <td>operational</td>\n",
              "      <td>Paris</td>\n",
              "      <td>paris-emiledeschanel-15</td>\n",
              "      <td>STATION</td>\n",
              "      <td>75007</td>\n",
              "      <td>Paris/Ãmile Deschanel/15</td>\n",
              "      <td>operational</td>\n",
              "      <td>2</td>\n",
              "      <td>station</td>\n",
              "      <td>ok</td>\n",
              "      <td>nonexistent</td>\n",
              "      <td>2018</td>\n",
              "      <td>4</td>\n",
              "      <td>4</td>\n",
              "      <td>23</td>\n",
              "      <td>27</td>\n",
              "    </tr>\n",
              "    <tr>\n",
              "      <th>25</th>\n",
              "      <td>182 Boulevard Voltaire</td>\n",
              "      <td>0</td>\n",
              "      <td>0</td>\n",
              "      <td>0</td>\n",
              "      <td>0</td>\n",
              "      <td>2</td>\n",
              "      <td>operational</td>\n",
              "      <td>Paris</td>\n",
              "      <td>paris-voltaire-182</td>\n",
              "      <td>STATION</td>\n",
              "      <td>75011</td>\n",
              "      <td>Paris/Voltaire/182</td>\n",
              "      <td>operational</td>\n",
              "      <td>5</td>\n",
              "      <td>station</td>\n",
              "      <td>ok</td>\n",
              "      <td>nonexistent</td>\n",
              "      <td>2018</td>\n",
              "      <td>4</td>\n",
              "      <td>5</td>\n",
              "      <td>21</td>\n",
              "      <td>6</td>\n",
              "    </tr>\n",
              "    <tr>\n",
              "      <th>...</th>\n",
              "      <td>...</td>\n",
              "      <td>...</td>\n",
              "      <td>...</td>\n",
              "      <td>...</td>\n",
              "      <td>...</td>\n",
              "      <td>...</td>\n",
              "      <td>...</td>\n",
              "      <td>...</td>\n",
              "      <td>...</td>\n",
              "      <td>...</td>\n",
              "      <td>...</td>\n",
              "      <td>...</td>\n",
              "      <td>...</td>\n",
              "      <td>...</td>\n",
              "      <td>...</td>\n",
              "      <td>...</td>\n",
              "      <td>...</td>\n",
              "      <td>...</td>\n",
              "      <td>...</td>\n",
              "      <td>...</td>\n",
              "      <td>...</td>\n",
              "      <td>...</td>\n",
              "    </tr>\n",
              "    <tr>\n",
              "      <th>4985</th>\n",
              "      <td>6 place du PrÃ©sident Mithouard</td>\n",
              "      <td>2</td>\n",
              "      <td>2</td>\n",
              "      <td>0</td>\n",
              "      <td>0</td>\n",
              "      <td>1</td>\n",
              "      <td>operational</td>\n",
              "      <td>Paris</td>\n",
              "      <td>paris-mithouard-6</td>\n",
              "      <td>STATION</td>\n",
              "      <td>75007</td>\n",
              "      <td>Paris/Mithouard/6</td>\n",
              "      <td>operational</td>\n",
              "      <td>4</td>\n",
              "      <td>station</td>\n",
              "      <td>ok</td>\n",
              "      <td>nonexistent</td>\n",
              "      <td>2018</td>\n",
              "      <td>4</td>\n",
              "      <td>4</td>\n",
              "      <td>2</td>\n",
              "      <td>35</td>\n",
              "    </tr>\n",
              "    <tr>\n",
              "      <th>4988</th>\n",
              "      <td>62 Rue Ramey</td>\n",
              "      <td>5</td>\n",
              "      <td>5</td>\n",
              "      <td>0</td>\n",
              "      <td>0</td>\n",
              "      <td>1</td>\n",
              "      <td>operational</td>\n",
              "      <td>Paris</td>\n",
              "      <td>paris-ramey-62</td>\n",
              "      <td>STATION</td>\n",
              "      <td>75018</td>\n",
              "      <td>Paris/Ramey/62</td>\n",
              "      <td>operational</td>\n",
              "      <td>1</td>\n",
              "      <td>station</td>\n",
              "      <td>ok</td>\n",
              "      <td>nonexistent</td>\n",
              "      <td>2018</td>\n",
              "      <td>4</td>\n",
              "      <td>8</td>\n",
              "      <td>11</td>\n",
              "      <td>0</td>\n",
              "    </tr>\n",
              "    <tr>\n",
              "      <th>4992</th>\n",
              "      <td>3 avenue d'Ivry</td>\n",
              "      <td>0</td>\n",
              "      <td>0</td>\n",
              "      <td>0</td>\n",
              "      <td>0</td>\n",
              "      <td>2</td>\n",
              "      <td>operational</td>\n",
              "      <td>Paris</td>\n",
              "      <td>paris-ivry-3</td>\n",
              "      <td>STATION</td>\n",
              "      <td>75013</td>\n",
              "      <td>Paris/Ivry/3</td>\n",
              "      <td>operational</td>\n",
              "      <td>6</td>\n",
              "      <td>station</td>\n",
              "      <td>ok</td>\n",
              "      <td>nonexistent</td>\n",
              "      <td>2018</td>\n",
              "      <td>4</td>\n",
              "      <td>9</td>\n",
              "      <td>23</td>\n",
              "      <td>1</td>\n",
              "    </tr>\n",
              "    <tr>\n",
              "      <th>4996</th>\n",
              "      <td>37 rue de Dantzig</td>\n",
              "      <td>4</td>\n",
              "      <td>4</td>\n",
              "      <td>0</td>\n",
              "      <td>0</td>\n",
              "      <td>1</td>\n",
              "      <td>operational</td>\n",
              "      <td>Paris</td>\n",
              "      <td>paris-dantzig-37</td>\n",
              "      <td>STATION</td>\n",
              "      <td>75015</td>\n",
              "      <td>Paris/Dantzig/37</td>\n",
              "      <td>operational</td>\n",
              "      <td>2</td>\n",
              "      <td>station</td>\n",
              "      <td>ok</td>\n",
              "      <td>nonexistent</td>\n",
              "      <td>2018</td>\n",
              "      <td>4</td>\n",
              "      <td>4</td>\n",
              "      <td>16</td>\n",
              "      <td>56</td>\n",
              "    </tr>\n",
              "    <tr>\n",
              "      <th>4997</th>\n",
              "      <td>142 rue du Bac</td>\n",
              "      <td>1</td>\n",
              "      <td>1</td>\n",
              "      <td>0</td>\n",
              "      <td>0</td>\n",
              "      <td>1</td>\n",
              "      <td>operational</td>\n",
              "      <td>Paris</td>\n",
              "      <td>paris-bac-142</td>\n",
              "      <td>STATION</td>\n",
              "      <td>75007</td>\n",
              "      <td>Paris/Bac/142</td>\n",
              "      <td>operational</td>\n",
              "      <td>4</td>\n",
              "      <td>station</td>\n",
              "      <td>ok</td>\n",
              "      <td>nonexistent</td>\n",
              "      <td>2018</td>\n",
              "      <td>4</td>\n",
              "      <td>1</td>\n",
              "      <td>7</td>\n",
              "      <td>1</td>\n",
              "    </tr>\n",
              "  </tbody>\n",
              "</table>\n",
              "<p>994 rows × 22 columns</p>\n",
              "</div>"
            ],
            "text/plain": [
              "                              Address  Cars  Bluecar counter  ...  day  hour  minute\n",
              "3              51 Rue EugÃ¨ne OudinÃ©     3                3  ...    4     4      37\n",
              "10                     14 rue Censier     0                0  ...    1     4      39\n",
              "14         8 Boulevard Richard Lenoir     0                0  ...    6     8       0\n",
              "24         15 avenue Ãmile Deschanel     2                2  ...    4    23      27\n",
              "25             182 Boulevard Voltaire     0                0  ...    5    21       6\n",
              "...                               ...   ...              ...  ...  ...   ...     ...\n",
              "4985  6 place du PrÃ©sident Mithouard     2                2  ...    4     2      35\n",
              "4988                     62 Rue Ramey     5                5  ...    8    11       0\n",
              "4992                  3 avenue d'Ivry     0                0  ...    9    23       1\n",
              "4996                37 rue de Dantzig     4                4  ...    4    16      56\n",
              "4997                   142 rue du Bac     1                1  ...    1     7       1\n",
              "\n",
              "[994 rows x 22 columns]"
            ]
          },
          "metadata": {
            "tags": []
          },
          "execution_count": 15
        }
      ]
    },
    {
      "cell_type": "markdown",
      "metadata": {
        "id": "Xm0rfXTJmc3z",
        "colab_type": "text"
      },
      "source": [
        "Completeness"
      ]
    },
    {
      "cell_type": "code",
      "metadata": {
        "id": "eVktxx3iZSjm",
        "colab_type": "code",
        "outputId": "dae7de2f-10bf-4ed4-f318-b5f1bac93450",
        "colab": {
          "base_uri": "https://localhost:8080/",
          "height": 34
        }
      },
      "source": [
        "#checking for missing values\n",
        "df.isnull().values.any()\n",
        "#hence we conclude there are no missing values in our dataset"
      ],
      "execution_count": 0,
      "outputs": [
        {
          "output_type": "execute_result",
          "data": {
            "text/plain": [
              "False"
            ]
          },
          "metadata": {
            "tags": []
          },
          "execution_count": 17
        }
      ]
    },
    {
      "cell_type": "code",
      "metadata": {
        "id": "2UBDjvDFQi-n",
        "colab_type": "code",
        "outputId": "42b776d3-cf87-4f68-b7c2-5aa2a063010e",
        "colab": {
          "base_uri": "https://localhost:8080/",
          "height": 118
        }
      },
      "source": [
        "#fixing column names\n",
        "#viewing columns\n",
        "df.columns"
      ],
      "execution_count": 0,
      "outputs": [
        {
          "output_type": "execute_result",
          "data": {
            "text/plain": [
              "Index(['Address', 'Cars', 'Bluecar counter', 'Utilib counter',\n",
              "       'Utilib 1.4 counter', 'Charge Slots', 'Charging Status', 'City', 'ID',\n",
              "       'Kind', 'Postal code', 'Public name', 'Rental status', 'Slots',\n",
              "       'Station type', 'Status', 'Subscription status', 'year', 'month', 'day',\n",
              "       'hour', 'minute'],\n",
              "      dtype='object')"
            ]
          },
          "metadata": {
            "tags": []
          },
          "execution_count": 75
        }
      ]
    },
    {
      "cell_type": "code",
      "metadata": {
        "id": "WITQ_KSBQ4FF",
        "colab_type": "code",
        "outputId": "7dbbcfa6-06f4-441e-ea87-a24e0085a50c",
        "colab": {
          "base_uri": "https://localhost:8080/",
          "height": 118
        }
      },
      "source": [
        "df.columns = df.columns.str.lower().str.replace(' ', '_')\n",
        "df.columns"
      ],
      "execution_count": 6,
      "outputs": [
        {
          "output_type": "execute_result",
          "data": {
            "text/plain": [
              "Index(['address', 'cars', 'bluecar_counter', 'utilib_counter',\n",
              "       'utilib_1.4_counter', 'charge_slots', 'charging_status', 'city', 'id',\n",
              "       'kind', 'postal_code', 'public_name', 'rental_status', 'slots',\n",
              "       'station_type', 'status', 'subscription_status', 'year', 'month', 'day',\n",
              "       'hour', 'minute'],\n",
              "      dtype='object')"
            ]
          },
          "metadata": {
            "tags": []
          },
          "execution_count": 6
        }
      ]
    },
    {
      "cell_type": "markdown",
      "metadata": {
        "id": "6u8N6aOBm55L",
        "colab_type": "text"
      },
      "source": [
        "Consistency"
      ]
    },
    {
      "cell_type": "code",
      "metadata": {
        "id": "o4GUAY8ampKO",
        "colab_type": "code",
        "outputId": "60aeb3ab-0304-4223-b445-e906c679464a",
        "colab": {
          "base_uri": "https://localhost:8080/",
          "height": 67
        }
      },
      "source": [
        "#checking and dropping duplicates\n",
        "#\n",
        "df[df.duplicated()]\n",
        "\n",
        "#now working with our non-duplicated data"
      ],
      "execution_count": 0,
      "outputs": [
        {
          "output_type": "execute_result",
          "data": {
            "text/html": [
              "<div>\n",
              "<style scoped>\n",
              "    .dataframe tbody tr th:only-of-type {\n",
              "        vertical-align: middle;\n",
              "    }\n",
              "\n",
              "    .dataframe tbody tr th {\n",
              "        vertical-align: top;\n",
              "    }\n",
              "\n",
              "    .dataframe thead th {\n",
              "        text-align: right;\n",
              "    }\n",
              "</style>\n",
              "<table border=\"1\" class=\"dataframe\">\n",
              "  <thead>\n",
              "    <tr style=\"text-align: right;\">\n",
              "      <th></th>\n",
              "      <th>address</th>\n",
              "      <th>cars</th>\n",
              "      <th>bluecar_counter</th>\n",
              "      <th>utilib_counter</th>\n",
              "      <th>utilib_1.4_counter</th>\n",
              "      <th>charge_slots</th>\n",
              "      <th>charging_status</th>\n",
              "      <th>city</th>\n",
              "      <th>id</th>\n",
              "      <th>kind</th>\n",
              "      <th>postal_code</th>\n",
              "      <th>public_name</th>\n",
              "      <th>rental_status</th>\n",
              "      <th>slots</th>\n",
              "      <th>station_type</th>\n",
              "      <th>status</th>\n",
              "      <th>subscription_status</th>\n",
              "      <th>year</th>\n",
              "      <th>month</th>\n",
              "      <th>day</th>\n",
              "      <th>hour</th>\n",
              "      <th>minute</th>\n",
              "    </tr>\n",
              "  </thead>\n",
              "  <tbody>\n",
              "  </tbody>\n",
              "</table>\n",
              "</div>"
            ],
            "text/plain": [
              "Empty DataFrame\n",
              "Columns: [address, cars, bluecar_counter, utilib_counter, utilib_1.4_counter, charge_slots, charging_status, city, id, kind, postal_code, public_name, rental_status, slots, station_type, status, subscription_status, year, month, day, hour, minute]\n",
              "Index: []"
            ]
          },
          "metadata": {
            "tags": []
          },
          "execution_count": 77
        }
      ]
    },
    {
      "cell_type": "markdown",
      "metadata": {
        "id": "LpkMbRgcnmIp",
        "colab_type": "text"
      },
      "source": [
        "Uniformity"
      ]
    },
    {
      "cell_type": "code",
      "metadata": {
        "id": "8bDNyqg1nSfP",
        "colab_type": "code",
        "outputId": "4e6171b0-fc22-4b55-c0e3-4871daf8dc42",
        "colab": {
          "base_uri": "https://localhost:8080/",
          "height": 554
        }
      },
      "source": [
        "#checking for appropriate datatypes\n",
        "df.info()"
      ],
      "execution_count": 0,
      "outputs": [
        {
          "output_type": "stream",
          "text": [
            "<class 'pandas.core.frame.DataFrame'>\n",
            "RangeIndex: 5000 entries, 0 to 4999\n",
            "Data columns (total 25 columns):\n",
            " #   Column               Non-Null Count  Dtype \n",
            "---  ------               --------------  ----- \n",
            " 0   address              5000 non-null   object\n",
            " 1   cars                 5000 non-null   int64 \n",
            " 2   bluecar_counter      5000 non-null   int64 \n",
            " 3   utilib_counter       5000 non-null   int64 \n",
            " 4   utilib_1.4_counter   5000 non-null   int64 \n",
            " 5   charge_slots         5000 non-null   int64 \n",
            " 6   charging_status      5000 non-null   object\n",
            " 7   city                 5000 non-null   object\n",
            " 8   displayed_comment    111 non-null    object\n",
            " 9   id                   5000 non-null   object\n",
            " 10  kind                 5000 non-null   object\n",
            " 11  geo_point            5000 non-null   object\n",
            " 12  postal_code          5000 non-null   int64 \n",
            " 13  public_name          5000 non-null   object\n",
            " 14  rental_status        5000 non-null   object\n",
            " 15  scheduled_at         47 non-null     object\n",
            " 16  slots                5000 non-null   int64 \n",
            " 17  station_type         5000 non-null   object\n",
            " 18  status               5000 non-null   object\n",
            " 19  subscription_status  5000 non-null   object\n",
            " 20  year                 5000 non-null   int64 \n",
            " 21  month                5000 non-null   int64 \n",
            " 22  day                  5000 non-null   int64 \n",
            " 23  hour                 5000 non-null   int64 \n",
            " 24  minute               5000 non-null   int64 \n",
            "dtypes: int64(12), object(13)\n",
            "memory usage: 976.7+ KB\n"
          ],
          "name": "stdout"
        }
      ]
    },
    {
      "cell_type": "markdown",
      "metadata": {
        "id": "tDK6RWAjrCm4",
        "colab_type": "text"
      },
      "source": [
        "Exporting cleaned our data"
      ]
    },
    {
      "cell_type": "code",
      "metadata": {
        "id": "m627RKjUpKXJ",
        "colab_type": "code",
        "colab": {}
      },
      "source": [
        "#converting our cleaned dataset to csv\n",
        "df.to_csv('autolib.csv')"
      ],
      "execution_count": 0,
      "outputs": []
    },
    {
      "cell_type": "markdown",
      "metadata": {
        "id": "rvGOJSRXsWV_",
        "colab_type": "text"
      },
      "source": [
        "CONNECTING TO OUR DATABASE"
      ]
    },
    {
      "cell_type": "code",
      "metadata": {
        "id": "r9HLv4WPr-hg",
        "colab_type": "code",
        "outputId": "b46c60dd-1c5f-4874-f0d9-854748e25f51",
        "colab": {
          "base_uri": "https://localhost:8080/",
          "height": 34
        }
      },
      "source": [
        "## loading the sql extension\n",
        "%load_ext sql\n",
        "\n",
        "# Connecting to our in memory sqlite database\n",
        "\n",
        "%sql sqlite://"
      ],
      "execution_count": 8,
      "outputs": [
        {
          "output_type": "execute_result",
          "data": {
            "text/plain": [
              "'Connected: @None'"
            ]
          },
          "metadata": {
            "tags": []
          },
          "execution_count": 8
        }
      ]
    },
    {
      "cell_type": "markdown",
      "metadata": {
        "id": "GU67ZShUtFTj",
        "colab_type": "text"
      },
      "source": [
        "IMPORTING OUR CSV FILES"
      ]
    },
    {
      "cell_type": "code",
      "metadata": {
        "id": "bbA9musmu39q",
        "colab_type": "code",
        "outputId": "4af8ce4d-c802-410a-a5ea-2695a5a348c1",
        "colab": {
          "base_uri": "https://localhost:8080/",
          "height": 427
        }
      },
      "source": [
        "# Loading our table from the respective CSV files\n",
        "# We will export the dataset that we have cleaned using python\n",
        "#\n",
        "with open('/content/autolib.exported.csv','r') as f:\n",
        "    Cars_dataset = pd.read_csv(f, index_col=0, encoding='utf-8')\n",
        "%sql DROP TABLE if EXISTS Cars_dataset;\n",
        "%sql PERSIST Cars_dataset;\n",
        "%sql SELECT * FROM Cars_dataset LIMIT 5;"
      ],
      "execution_count": 9,
      "outputs": [
        {
          "output_type": "stream",
          "text": [
            " * sqlite://\n",
            "Done.\n",
            " * sqlite://\n",
            " * sqlite://\n",
            "Done.\n"
          ],
          "name": "stdout"
        },
        {
          "output_type": "execute_result",
          "data": {
            "text/html": [
              "<table>\n",
              "    <tr>\n",
              "        <th>index</th>\n",
              "        <th>address</th>\n",
              "        <th>cars</th>\n",
              "        <th>bluecar_counter</th>\n",
              "        <th>utilib_counter</th>\n",
              "        <th>utilib_1.4_counter</th>\n",
              "        <th>charge_slots</th>\n",
              "        <th>charging_status</th>\n",
              "        <th>city</th>\n",
              "        <th>displayed_comment</th>\n",
              "        <th>id</th>\n",
              "        <th>kind</th>\n",
              "        <th>geo_point</th>\n",
              "        <th>postal_code</th>\n",
              "        <th>public_name</th>\n",
              "        <th>rental_status</th>\n",
              "        <th>scheduled_at</th>\n",
              "        <th>slots</th>\n",
              "        <th>station_type</th>\n",
              "        <th>status</th>\n",
              "        <th>subscription_status</th>\n",
              "        <th>year</th>\n",
              "        <th>month</th>\n",
              "        <th>day</th>\n",
              "        <th>hour</th>\n",
              "        <th>minute</th>\n",
              "    </tr>\n",
              "    <tr>\n",
              "        <td>0</td>\n",
              "        <td>2 Avenue de Suffren</td>\n",
              "        <td>0</td>\n",
              "        <td>0</td>\n",
              "        <td>0</td>\n",
              "        <td>0</td>\n",
              "        <td>0</td>\n",
              "        <td>nonexistent</td>\n",
              "        <td>Paris</td>\n",
              "        <td>None</td>\n",
              "        <td>paris-suffren-2</td>\n",
              "        <td>STATION</td>\n",
              "        <td>48.857, 2.2917</td>\n",
              "        <td>75015</td>\n",
              "        <td>Paris/Suffren/2</td>\n",
              "        <td>operational</td>\n",
              "        <td>None</td>\n",
              "        <td>2</td>\n",
              "        <td>station</td>\n",
              "        <td>ok</td>\n",
              "        <td>nonexistent</td>\n",
              "        <td>2018</td>\n",
              "        <td>4</td>\n",
              "        <td>8</td>\n",
              "        <td>11</td>\n",
              "        <td>43</td>\n",
              "    </tr>\n",
              "    <tr>\n",
              "        <td>1</td>\n",
              "        <td>145 Rue Raymond Losserand</td>\n",
              "        <td>6</td>\n",
              "        <td>6</td>\n",
              "        <td>0</td>\n",
              "        <td>0</td>\n",
              "        <td>0</td>\n",
              "        <td>operational</td>\n",
              "        <td>Paris</td>\n",
              "        <td>None</td>\n",
              "        <td>paris-raymondlosserand-145</td>\n",
              "        <td>STATION</td>\n",
              "        <td>48.83126, 2.313088</td>\n",
              "        <td>75014</td>\n",
              "        <td>Paris/Raymond Losserand/145</td>\n",
              "        <td>operational</td>\n",
              "        <td>None</td>\n",
              "        <td>0</td>\n",
              "        <td>station</td>\n",
              "        <td>ok</td>\n",
              "        <td>nonexistent</td>\n",
              "        <td>2018</td>\n",
              "        <td>4</td>\n",
              "        <td>6</td>\n",
              "        <td>7</td>\n",
              "        <td>24</td>\n",
              "    </tr>\n",
              "    <tr>\n",
              "        <td>2</td>\n",
              "        <td>2 Avenue John Fitzgerald Kennedy</td>\n",
              "        <td>3</td>\n",
              "        <td>3</td>\n",
              "        <td>0</td>\n",
              "        <td>2</td>\n",
              "        <td>0</td>\n",
              "        <td>operational</td>\n",
              "        <td>Le Bourget</td>\n",
              "        <td>None</td>\n",
              "        <td>lebourget-johnfitzgeraldkennedy-2</td>\n",
              "        <td>STATION</td>\n",
              "        <td>48.938103, 2.4286035</td>\n",
              "        <td>93350</td>\n",
              "        <td>Le Bourget/John Fitzgerald Kennedy/2</td>\n",
              "        <td>operational</td>\n",
              "        <td>None</td>\n",
              "        <td>1</td>\n",
              "        <td>station</td>\n",
              "        <td>ok</td>\n",
              "        <td>nonexistent</td>\n",
              "        <td>2018</td>\n",
              "        <td>4</td>\n",
              "        <td>3</td>\n",
              "        <td>20</td>\n",
              "        <td>14</td>\n",
              "    </tr>\n",
              "    <tr>\n",
              "        <td>3</td>\n",
              "        <td>51 Rue EugÃ¨ne OudinÃ©</td>\n",
              "        <td>3</td>\n",
              "        <td>3</td>\n",
              "        <td>1</td>\n",
              "        <td>0</td>\n",
              "        <td>1</td>\n",
              "        <td>operational</td>\n",
              "        <td>Paris</td>\n",
              "        <td>None</td>\n",
              "        <td>paris-eugeneoudine-51</td>\n",
              "        <td>STATION</td>\n",
              "        <td>48.8250327, 2.3725162</td>\n",
              "        <td>75013</td>\n",
              "        <td>Paris/EugÃ¨ne OudinÃ©/51</td>\n",
              "        <td>operational</td>\n",
              "        <td>None</td>\n",
              "        <td>2</td>\n",
              "        <td>station</td>\n",
              "        <td>ok</td>\n",
              "        <td>nonexistent</td>\n",
              "        <td>2018</td>\n",
              "        <td>4</td>\n",
              "        <td>4</td>\n",
              "        <td>4</td>\n",
              "        <td>37</td>\n",
              "    </tr>\n",
              "    <tr>\n",
              "        <td>4</td>\n",
              "        <td>6 avenue de la Porte de Champerret</td>\n",
              "        <td>3</td>\n",
              "        <td>3</td>\n",
              "        <td>0</td>\n",
              "        <td>0</td>\n",
              "        <td>0</td>\n",
              "        <td>nonexistent</td>\n",
              "        <td>Paris</td>\n",
              "        <td>None</td>\n",
              "        <td>paris-portedechamperret-6</td>\n",
              "        <td>PARKING</td>\n",
              "        <td>48.8862632, 2.2874511</td>\n",
              "        <td>75017</td>\n",
              "        <td>Paris/Porte de Champerret/6</td>\n",
              "        <td>operational</td>\n",
              "        <td>None</td>\n",
              "        <td>3</td>\n",
              "        <td>station</td>\n",
              "        <td>ok</td>\n",
              "        <td>nonexistent</td>\n",
              "        <td>2018</td>\n",
              "        <td>4</td>\n",
              "        <td>8</td>\n",
              "        <td>17</td>\n",
              "        <td>23</td>\n",
              "    </tr>\n",
              "</table>"
            ],
            "text/plain": [
              "[(0, '2 Avenue de Suffren', 0, 0, 0, 0, 0, 'nonexistent', 'Paris', None, 'paris-suffren-2', 'STATION', '48.857, 2.2917', 75015, 'Paris/Suffren/2', 'operational', None, 2, 'station', 'ok', 'nonexistent', 2018, 4, 8, 11, 43),\n",
              " (1, '145 Rue Raymond Losserand', 6, 6, 0, 0, 0, 'operational', 'Paris', None, 'paris-raymondlosserand-145', 'STATION', '48.83126, 2.313088', 75014, 'Paris/Raymond Losserand/145', 'operational', None, 0, 'station', 'ok', 'nonexistent', 2018, 4, 6, 7, 24),\n",
              " (2, '2 Avenue John Fitzgerald Kennedy', 3, 3, 0, 2, 0, 'operational', 'Le Bourget', None, 'lebourget-johnfitzgeraldkennedy-2', 'STATION', '48.938103, 2.4286035', 93350, 'Le Bourget/John Fitzgerald Kennedy/2', 'operational', None, 1, 'station', 'ok', 'nonexistent', 2018, 4, 3, 20, 14),\n",
              " (3, '51 Rue EugÃ¨ne OudinÃ©', 3, 3, 1, 0, 1, 'operational', 'Paris', None, 'paris-eugeneoudine-51', 'STATION', '48.8250327, 2.3725162', 75013, 'Paris/EugÃ¨ne OudinÃ©/51', 'operational', None, 2, 'station', 'ok', 'nonexistent', 2018, 4, 4, 4, 37),\n",
              " (4, '6 avenue de la Porte de Champerret', 3, 3, 0, 0, 0, 'nonexistent', 'Paris', None, 'paris-portedechamperret-6', 'PARKING', '48.8862632, 2.2874511', 75017, 'Paris/Porte de Champerret/6', 'operational', None, 3, 'station', 'ok', 'nonexistent', 2018, 4, 8, 17, 23)]"
            ]
          },
          "metadata": {
            "tags": []
          },
          "execution_count": 9
        }
      ]
    },
    {
      "cell_type": "markdown",
      "metadata": {
        "id": "NlA48YAuWRu2",
        "colab_type": "text"
      },
      "source": [
        "ANSWERING QUESTIONS"
      ]
    },
    {
      "cell_type": "code",
      "metadata": {
        "id": "ZpCzdi1pnFlp",
        "colab_type": "code",
        "colab": {
          "base_uri": "https://localhost:8080/",
          "height": 394
        },
        "outputId": "c460a769-9bef-4eb2-c895-9900b7850f6f"
      },
      "source": [
        "\n",
        "#adding a new column intdate into our data\n",
        "%%sql\n",
        "ALTER TABLE Cars_dataset\n",
        "ADD intdate int;\n",
        "SELECT * FROM Cars_dataset LIMIT 5;"
      ],
      "execution_count": 10,
      "outputs": [
        {
          "output_type": "stream",
          "text": [
            " * sqlite://\n",
            "Done.\n",
            "Done.\n"
          ],
          "name": "stdout"
        },
        {
          "output_type": "execute_result",
          "data": {
            "text/html": [
              "<table>\n",
              "    <tr>\n",
              "        <th>index</th>\n",
              "        <th>address</th>\n",
              "        <th>cars</th>\n",
              "        <th>bluecar_counter</th>\n",
              "        <th>utilib_counter</th>\n",
              "        <th>utilib_1.4_counter</th>\n",
              "        <th>charge_slots</th>\n",
              "        <th>charging_status</th>\n",
              "        <th>city</th>\n",
              "        <th>displayed_comment</th>\n",
              "        <th>id</th>\n",
              "        <th>kind</th>\n",
              "        <th>geo_point</th>\n",
              "        <th>postal_code</th>\n",
              "        <th>public_name</th>\n",
              "        <th>rental_status</th>\n",
              "        <th>scheduled_at</th>\n",
              "        <th>slots</th>\n",
              "        <th>station_type</th>\n",
              "        <th>status</th>\n",
              "        <th>subscription_status</th>\n",
              "        <th>year</th>\n",
              "        <th>month</th>\n",
              "        <th>day</th>\n",
              "        <th>hour</th>\n",
              "        <th>minute</th>\n",
              "        <th>intdate</th>\n",
              "    </tr>\n",
              "    <tr>\n",
              "        <td>0</td>\n",
              "        <td>2 Avenue de Suffren</td>\n",
              "        <td>0</td>\n",
              "        <td>0</td>\n",
              "        <td>0</td>\n",
              "        <td>0</td>\n",
              "        <td>0</td>\n",
              "        <td>nonexistent</td>\n",
              "        <td>Paris</td>\n",
              "        <td>None</td>\n",
              "        <td>paris-suffren-2</td>\n",
              "        <td>STATION</td>\n",
              "        <td>48.857, 2.2917</td>\n",
              "        <td>75015</td>\n",
              "        <td>Paris/Suffren/2</td>\n",
              "        <td>operational</td>\n",
              "        <td>None</td>\n",
              "        <td>2</td>\n",
              "        <td>station</td>\n",
              "        <td>ok</td>\n",
              "        <td>nonexistent</td>\n",
              "        <td>2018</td>\n",
              "        <td>4</td>\n",
              "        <td>8</td>\n",
              "        <td>11</td>\n",
              "        <td>43</td>\n",
              "        <td>None</td>\n",
              "    </tr>\n",
              "    <tr>\n",
              "        <td>1</td>\n",
              "        <td>145 Rue Raymond Losserand</td>\n",
              "        <td>6</td>\n",
              "        <td>6</td>\n",
              "        <td>0</td>\n",
              "        <td>0</td>\n",
              "        <td>0</td>\n",
              "        <td>operational</td>\n",
              "        <td>Paris</td>\n",
              "        <td>None</td>\n",
              "        <td>paris-raymondlosserand-145</td>\n",
              "        <td>STATION</td>\n",
              "        <td>48.83126, 2.313088</td>\n",
              "        <td>75014</td>\n",
              "        <td>Paris/Raymond Losserand/145</td>\n",
              "        <td>operational</td>\n",
              "        <td>None</td>\n",
              "        <td>0</td>\n",
              "        <td>station</td>\n",
              "        <td>ok</td>\n",
              "        <td>nonexistent</td>\n",
              "        <td>2018</td>\n",
              "        <td>4</td>\n",
              "        <td>6</td>\n",
              "        <td>7</td>\n",
              "        <td>24</td>\n",
              "        <td>None</td>\n",
              "    </tr>\n",
              "    <tr>\n",
              "        <td>2</td>\n",
              "        <td>2 Avenue John Fitzgerald Kennedy</td>\n",
              "        <td>3</td>\n",
              "        <td>3</td>\n",
              "        <td>0</td>\n",
              "        <td>2</td>\n",
              "        <td>0</td>\n",
              "        <td>operational</td>\n",
              "        <td>Le Bourget</td>\n",
              "        <td>None</td>\n",
              "        <td>lebourget-johnfitzgeraldkennedy-2</td>\n",
              "        <td>STATION</td>\n",
              "        <td>48.938103, 2.4286035</td>\n",
              "        <td>93350</td>\n",
              "        <td>Le Bourget/John Fitzgerald Kennedy/2</td>\n",
              "        <td>operational</td>\n",
              "        <td>None</td>\n",
              "        <td>1</td>\n",
              "        <td>station</td>\n",
              "        <td>ok</td>\n",
              "        <td>nonexistent</td>\n",
              "        <td>2018</td>\n",
              "        <td>4</td>\n",
              "        <td>3</td>\n",
              "        <td>20</td>\n",
              "        <td>14</td>\n",
              "        <td>None</td>\n",
              "    </tr>\n",
              "    <tr>\n",
              "        <td>3</td>\n",
              "        <td>51 Rue EugÃ¨ne OudinÃ©</td>\n",
              "        <td>3</td>\n",
              "        <td>3</td>\n",
              "        <td>1</td>\n",
              "        <td>0</td>\n",
              "        <td>1</td>\n",
              "        <td>operational</td>\n",
              "        <td>Paris</td>\n",
              "        <td>None</td>\n",
              "        <td>paris-eugeneoudine-51</td>\n",
              "        <td>STATION</td>\n",
              "        <td>48.8250327, 2.3725162</td>\n",
              "        <td>75013</td>\n",
              "        <td>Paris/EugÃ¨ne OudinÃ©/51</td>\n",
              "        <td>operational</td>\n",
              "        <td>None</td>\n",
              "        <td>2</td>\n",
              "        <td>station</td>\n",
              "        <td>ok</td>\n",
              "        <td>nonexistent</td>\n",
              "        <td>2018</td>\n",
              "        <td>4</td>\n",
              "        <td>4</td>\n",
              "        <td>4</td>\n",
              "        <td>37</td>\n",
              "        <td>None</td>\n",
              "    </tr>\n",
              "    <tr>\n",
              "        <td>4</td>\n",
              "        <td>6 avenue de la Porte de Champerret</td>\n",
              "        <td>3</td>\n",
              "        <td>3</td>\n",
              "        <td>0</td>\n",
              "        <td>0</td>\n",
              "        <td>0</td>\n",
              "        <td>nonexistent</td>\n",
              "        <td>Paris</td>\n",
              "        <td>None</td>\n",
              "        <td>paris-portedechamperret-6</td>\n",
              "        <td>PARKING</td>\n",
              "        <td>48.8862632, 2.2874511</td>\n",
              "        <td>75017</td>\n",
              "        <td>Paris/Porte de Champerret/6</td>\n",
              "        <td>operational</td>\n",
              "        <td>None</td>\n",
              "        <td>3</td>\n",
              "        <td>station</td>\n",
              "        <td>ok</td>\n",
              "        <td>nonexistent</td>\n",
              "        <td>2018</td>\n",
              "        <td>4</td>\n",
              "        <td>8</td>\n",
              "        <td>17</td>\n",
              "        <td>23</td>\n",
              "        <td>None</td>\n",
              "    </tr>\n",
              "</table>"
            ],
            "text/plain": [
              "[(0, '2 Avenue de Suffren', 0, 0, 0, 0, 0, 'nonexistent', 'Paris', None, 'paris-suffren-2', 'STATION', '48.857, 2.2917', 75015, 'Paris/Suffren/2', 'operational', None, 2, 'station', 'ok', 'nonexistent', 2018, 4, 8, 11, 43, None),\n",
              " (1, '145 Rue Raymond Losserand', 6, 6, 0, 0, 0, 'operational', 'Paris', None, 'paris-raymondlosserand-145', 'STATION', '48.83126, 2.313088', 75014, 'Paris/Raymond Losserand/145', 'operational', None, 0, 'station', 'ok', 'nonexistent', 2018, 4, 6, 7, 24, None),\n",
              " (2, '2 Avenue John Fitzgerald Kennedy', 3, 3, 0, 2, 0, 'operational', 'Le Bourget', None, 'lebourget-johnfitzgeraldkennedy-2', 'STATION', '48.938103, 2.4286035', 93350, 'Le Bourget/John Fitzgerald Kennedy/2', 'operational', None, 1, 'station', 'ok', 'nonexistent', 2018, 4, 3, 20, 14, None),\n",
              " (3, '51 Rue EugÃ¨ne OudinÃ©', 3, 3, 1, 0, 1, 'operational', 'Paris', None, 'paris-eugeneoudine-51', 'STATION', '48.8250327, 2.3725162', 75013, 'Paris/EugÃ¨ne OudinÃ©/51', 'operational', None, 2, 'station', 'ok', 'nonexistent', 2018, 4, 4, 4, 37, None),\n",
              " (4, '6 avenue de la Porte de Champerret', 3, 3, 0, 0, 0, 'nonexistent', 'Paris', None, 'paris-portedechamperret-6', 'PARKING', '48.8862632, 2.2874511', 75017, 'Paris/Porte de Champerret/6', 'operational', None, 3, 'station', 'ok', 'nonexistent', 2018, 4, 8, 17, 23, None)]"
            ]
          },
          "metadata": {
            "tags": []
          },
          "execution_count": 10
        }
      ]
    },
    {
      "cell_type": "code",
      "metadata": {
        "id": "u-Ksv6nIo8Nx",
        "colab_type": "code",
        "colab": {
          "base_uri": "https://localhost:8080/",
          "height": 270
        },
        "outputId": "9de6be4e-1edb-418c-e01f-728e3ecf6647"
      },
      "source": [
        "#updating our new column with concatenated values\n",
        "%%sql\n",
        "UPDATE Cars_dataset\n",
        "\n",
        "SET [intdate] = (year|| \"\" ||month|| \"\" ||day|| \"\" ||hour|| \"\" ||minute);\n",
        "\n",
        "SELECT * FROM Cars_dataset LIMIT 3;"
      ],
      "execution_count": 11,
      "outputs": [
        {
          "output_type": "stream",
          "text": [
            " * sqlite://\n",
            "5000 rows affected.\n",
            "Done.\n"
          ],
          "name": "stdout"
        },
        {
          "output_type": "execute_result",
          "data": {
            "text/html": [
              "<table>\n",
              "    <tr>\n",
              "        <th>index</th>\n",
              "        <th>address</th>\n",
              "        <th>cars</th>\n",
              "        <th>bluecar_counter</th>\n",
              "        <th>utilib_counter</th>\n",
              "        <th>utilib_1.4_counter</th>\n",
              "        <th>charge_slots</th>\n",
              "        <th>charging_status</th>\n",
              "        <th>city</th>\n",
              "        <th>displayed_comment</th>\n",
              "        <th>id</th>\n",
              "        <th>kind</th>\n",
              "        <th>geo_point</th>\n",
              "        <th>postal_code</th>\n",
              "        <th>public_name</th>\n",
              "        <th>rental_status</th>\n",
              "        <th>scheduled_at</th>\n",
              "        <th>slots</th>\n",
              "        <th>station_type</th>\n",
              "        <th>status</th>\n",
              "        <th>subscription_status</th>\n",
              "        <th>year</th>\n",
              "        <th>month</th>\n",
              "        <th>day</th>\n",
              "        <th>hour</th>\n",
              "        <th>minute</th>\n",
              "        <th>intdate</th>\n",
              "    </tr>\n",
              "    <tr>\n",
              "        <td>0</td>\n",
              "        <td>2 Avenue de Suffren</td>\n",
              "        <td>0</td>\n",
              "        <td>0</td>\n",
              "        <td>0</td>\n",
              "        <td>0</td>\n",
              "        <td>0</td>\n",
              "        <td>nonexistent</td>\n",
              "        <td>Paris</td>\n",
              "        <td>None</td>\n",
              "        <td>paris-suffren-2</td>\n",
              "        <td>STATION</td>\n",
              "        <td>48.857, 2.2917</td>\n",
              "        <td>75015</td>\n",
              "        <td>Paris/Suffren/2</td>\n",
              "        <td>operational</td>\n",
              "        <td>None</td>\n",
              "        <td>2</td>\n",
              "        <td>station</td>\n",
              "        <td>ok</td>\n",
              "        <td>nonexistent</td>\n",
              "        <td>2018</td>\n",
              "        <td>4</td>\n",
              "        <td>8</td>\n",
              "        <td>11</td>\n",
              "        <td>43</td>\n",
              "        <td>2018481143</td>\n",
              "    </tr>\n",
              "    <tr>\n",
              "        <td>1</td>\n",
              "        <td>145 Rue Raymond Losserand</td>\n",
              "        <td>6</td>\n",
              "        <td>6</td>\n",
              "        <td>0</td>\n",
              "        <td>0</td>\n",
              "        <td>0</td>\n",
              "        <td>operational</td>\n",
              "        <td>Paris</td>\n",
              "        <td>None</td>\n",
              "        <td>paris-raymondlosserand-145</td>\n",
              "        <td>STATION</td>\n",
              "        <td>48.83126, 2.313088</td>\n",
              "        <td>75014</td>\n",
              "        <td>Paris/Raymond Losserand/145</td>\n",
              "        <td>operational</td>\n",
              "        <td>None</td>\n",
              "        <td>0</td>\n",
              "        <td>station</td>\n",
              "        <td>ok</td>\n",
              "        <td>nonexistent</td>\n",
              "        <td>2018</td>\n",
              "        <td>4</td>\n",
              "        <td>6</td>\n",
              "        <td>7</td>\n",
              "        <td>24</td>\n",
              "        <td>201846724</td>\n",
              "    </tr>\n",
              "    <tr>\n",
              "        <td>2</td>\n",
              "        <td>2 Avenue John Fitzgerald Kennedy</td>\n",
              "        <td>3</td>\n",
              "        <td>3</td>\n",
              "        <td>0</td>\n",
              "        <td>2</td>\n",
              "        <td>0</td>\n",
              "        <td>operational</td>\n",
              "        <td>Le Bourget</td>\n",
              "        <td>None</td>\n",
              "        <td>lebourget-johnfitzgeraldkennedy-2</td>\n",
              "        <td>STATION</td>\n",
              "        <td>48.938103, 2.4286035</td>\n",
              "        <td>93350</td>\n",
              "        <td>Le Bourget/John Fitzgerald Kennedy/2</td>\n",
              "        <td>operational</td>\n",
              "        <td>None</td>\n",
              "        <td>1</td>\n",
              "        <td>station</td>\n",
              "        <td>ok</td>\n",
              "        <td>nonexistent</td>\n",
              "        <td>2018</td>\n",
              "        <td>4</td>\n",
              "        <td>3</td>\n",
              "        <td>20</td>\n",
              "        <td>14</td>\n",
              "        <td>2018432014</td>\n",
              "    </tr>\n",
              "</table>"
            ],
            "text/plain": [
              "[(0, '2 Avenue de Suffren', 0, 0, 0, 0, 0, 'nonexistent', 'Paris', None, 'paris-suffren-2', 'STATION', '48.857, 2.2917', 75015, 'Paris/Suffren/2', 'operational', None, 2, 'station', 'ok', 'nonexistent', 2018, 4, 8, 11, 43, 2018481143),\n",
              " (1, '145 Rue Raymond Losserand', 6, 6, 0, 0, 0, 'operational', 'Paris', None, 'paris-raymondlosserand-145', 'STATION', '48.83126, 2.313088', 75014, 'Paris/Raymond Losserand/145', 'operational', None, 0, 'station', 'ok', 'nonexistent', 2018, 4, 6, 7, 24, 201846724),\n",
              " (2, '2 Avenue John Fitzgerald Kennedy', 3, 3, 0, 2, 0, 'operational', 'Le Bourget', None, 'lebourget-johnfitzgeraldkennedy-2', 'STATION', '48.938103, 2.4286035', 93350, 'Le Bourget/John Fitzgerald Kennedy/2', 'operational', None, 1, 'station', 'ok', 'nonexistent', 2018, 4, 3, 20, 14, 2018432014)]"
            ]
          },
          "metadata": {
            "tags": []
          },
          "execution_count": 11
        }
      ]
    },
    {
      "cell_type": "code",
      "metadata": {
        "id": "CIpDvn5_4mT3",
        "colab_type": "code",
        "colab": {
          "base_uri": "https://localhost:8080/",
          "height": 199
        },
        "outputId": "6d877fad-1870-4ffc-8981-81f529a2313c"
      },
      "source": [
        "#\n",
        "%%sql\n",
        "\n",
        "ALTER TABLE Cars_dataset\n",
        "ADD difference int;\n",
        "SELECT * FROM Cars_dataset LIMIT 2;"
      ],
      "execution_count": 27,
      "outputs": [
        {
          "output_type": "stream",
          "text": [
            " * sqlite://\n",
            "Done.\n",
            "Done.\n"
          ],
          "name": "stdout"
        },
        {
          "output_type": "execute_result",
          "data": {
            "text/html": [
              "<table>\n",
              "    <tr>\n",
              "        <th>index</th>\n",
              "        <th>address</th>\n",
              "        <th>cars</th>\n",
              "        <th>bluecar_counter</th>\n",
              "        <th>utilib_counter</th>\n",
              "        <th>utilib_1.4_counter</th>\n",
              "        <th>charge_slots</th>\n",
              "        <th>charging_status</th>\n",
              "        <th>city</th>\n",
              "        <th>displayed_comment</th>\n",
              "        <th>id</th>\n",
              "        <th>kind</th>\n",
              "        <th>geo_point</th>\n",
              "        <th>postal_code</th>\n",
              "        <th>public_name</th>\n",
              "        <th>rental_status</th>\n",
              "        <th>scheduled_at</th>\n",
              "        <th>slots</th>\n",
              "        <th>station_type</th>\n",
              "        <th>status</th>\n",
              "        <th>subscription_status</th>\n",
              "        <th>year</th>\n",
              "        <th>month</th>\n",
              "        <th>day</th>\n",
              "        <th>hour</th>\n",
              "        <th>minute</th>\n",
              "        <th>intdate</th>\n",
              "        <th>difference</th>\n",
              "    </tr>\n",
              "    <tr>\n",
              "        <td>0</td>\n",
              "        <td>2 Avenue de Suffren</td>\n",
              "        <td>0</td>\n",
              "        <td>0</td>\n",
              "        <td>0</td>\n",
              "        <td>0</td>\n",
              "        <td>0</td>\n",
              "        <td>nonexistent</td>\n",
              "        <td>Paris</td>\n",
              "        <td>None</td>\n",
              "        <td>paris-suffren-2</td>\n",
              "        <td>STATION</td>\n",
              "        <td>48.857, 2.2917</td>\n",
              "        <td>75015</td>\n",
              "        <td>Paris/Suffren/2</td>\n",
              "        <td>operational</td>\n",
              "        <td>None</td>\n",
              "        <td>2</td>\n",
              "        <td>station</td>\n",
              "        <td>ok</td>\n",
              "        <td>nonexistent</td>\n",
              "        <td>2018</td>\n",
              "        <td>4</td>\n",
              "        <td>8</td>\n",
              "        <td>11</td>\n",
              "        <td>43</td>\n",
              "        <td>2018481143</td>\n",
              "        <td>None</td>\n",
              "    </tr>\n",
              "    <tr>\n",
              "        <td>1</td>\n",
              "        <td>145 Rue Raymond Losserand</td>\n",
              "        <td>6</td>\n",
              "        <td>6</td>\n",
              "        <td>0</td>\n",
              "        <td>0</td>\n",
              "        <td>0</td>\n",
              "        <td>operational</td>\n",
              "        <td>Paris</td>\n",
              "        <td>None</td>\n",
              "        <td>paris-raymondlosserand-145</td>\n",
              "        <td>STATION</td>\n",
              "        <td>48.83126, 2.313088</td>\n",
              "        <td>75014</td>\n",
              "        <td>Paris/Raymond Losserand/145</td>\n",
              "        <td>operational</td>\n",
              "        <td>None</td>\n",
              "        <td>0</td>\n",
              "        <td>station</td>\n",
              "        <td>ok</td>\n",
              "        <td>nonexistent</td>\n",
              "        <td>2018</td>\n",
              "        <td>4</td>\n",
              "        <td>6</td>\n",
              "        <td>7</td>\n",
              "        <td>24</td>\n",
              "        <td>201846724</td>\n",
              "        <td>None</td>\n",
              "    </tr>\n",
              "</table>"
            ],
            "text/plain": [
              "[(0, '2 Avenue de Suffren', 0, 0, 0, 0, 0, 'nonexistent', 'Paris', None, 'paris-suffren-2', 'STATION', '48.857, 2.2917', 75015, 'Paris/Suffren/2', 'operational', None, 2, 'station', 'ok', 'nonexistent', 2018, 4, 8, 11, 43, 2018481143, None),\n",
              " (1, '145 Rue Raymond Losserand', 6, 6, 0, 0, 0, 'operational', 'Paris', None, 'paris-raymondlosserand-145', 'STATION', '48.83126, 2.313088', 75014, 'Paris/Raymond Losserand/145', 'operational', None, 0, 'station', 'ok', 'nonexistent', 2018, 4, 6, 7, 24, 201846724, None)]"
            ]
          },
          "metadata": {
            "tags": []
          },
          "execution_count": 27
        }
      ]
    },
    {
      "cell_type": "code",
      "metadata": {
        "id": "qgCemOYAB2oB",
        "colab_type": "code",
        "colab": {
          "base_uri": "https://localhost:8080/",
          "height": 50
        },
        "outputId": "8897362a-a73b-4353-ea28-ccb889a2b735"
      },
      "source": [
        "#\n",
        "%%sql\n",
        "SELECT t1.station_type, t2.cars - t1.station_type AS [val]\n",
        "FROM Cars_dataset t1\n",
        "INNER JOIN Cars_dataset t2 ON t1.station_type = t2.station_type\n",
        "AND t1.intdate < t2.intdate"
      ],
      "execution_count": 12,
      "outputs": [
        {
          "output_type": "stream",
          "text": [
            " * sqlite://\n",
            "Done.\n"
          ],
          "name": "stdout"
        }
      ]
    },
    {
      "cell_type": "code",
      "metadata": {
        "id": "PjUhda5v6QQI",
        "colab_type": "code",
        "colab": {}
      },
      "source": [
        "#\n",
        "%%sql\n",
        "UPDATE Cars_dataset\n",
        "\n",
        "SET [difference] = ;\n",
        "\n",
        "SELECT * FROM Cars_dataset LIMIT 3;"
      ],
      "execution_count": 0,
      "outputs": []
    },
    {
      "cell_type": "code",
      "metadata": {
        "id": "SQ5cbgicj4Ye",
        "colab_type": "code",
        "colab": {
          "base_uri": "https://localhost:8080/",
          "height": 149
        },
        "outputId": "71f3e51e-f8f4-4952-b2d4-74394cbd48b4"
      },
      "source": [
        "#ordering our dataset with the intdate column\n",
        "%%sql\n",
        "CREATE VIEW if NOT EXISTS ordered_view AS\n",
        "\n",
        "SELECT * FROM Cars_dataset\n",
        "\n",
        "ORDER BY [intdate] ASC; \n",
        "\n",
        "SELECT [station_type], [intdate] FROM ordered_view LIMIT 3;\n"
      ],
      "execution_count": 24,
      "outputs": [
        {
          "output_type": "stream",
          "text": [
            " * sqlite://\n",
            "Done.\n",
            "Done.\n"
          ],
          "name": "stdout"
        },
        {
          "output_type": "execute_result",
          "data": {
            "text/html": [
              "<table>\n",
              "    <tr>\n",
              "        <th>station_type</th>\n",
              "        <th>intdate</th>\n",
              "    </tr>\n",
              "    <tr>\n",
              "        <td>station</td>\n",
              "        <td>2018492358</td>\n",
              "    </tr>\n",
              "    <tr>\n",
              "        <td>station</td>\n",
              "        <td>2018492358</td>\n",
              "    </tr>\n",
              "    <tr>\n",
              "        <td>station</td>\n",
              "        <td>2018492356</td>\n",
              "    </tr>\n",
              "</table>"
            ],
            "text/plain": [
              "[('station', 2018492358), ('station', 2018492358), ('station', 2018492356)]"
            ]
          },
          "metadata": {
            "tags": []
          },
          "execution_count": 24
        }
      ]
    },
    {
      "cell_type": "markdown",
      "metadata": {
        "id": "N9FSyFZzhFci",
        "colab_type": "text"
      },
      "source": [
        "QUESTION ONE\n",
        "\n",
        "\n",
        "What is the most popular hour for returning cars?"
      ]
    },
    {
      "cell_type": "code",
      "metadata": {
        "id": "5dB-ssnyv2M7",
        "colab_type": "code",
        "outputId": "7d470f0a-680b-4305-f0a3-599c9d4cfd7b",
        "colab": {
          "base_uri": "https://localhost:8080/",
          "height": 92
        }
      },
      "source": [
        "#\n",
        "%%sql \n",
        "SELECT count(intdate) \n",
        "FROM ordered_view \n",
        "WHERE "
      ],
      "execution_count": 57,
      "outputs": [
        {
          "output_type": "stream",
          "text": [
            " * sqlite://\n",
            "Done.\n"
          ],
          "name": "stdout"
        },
        {
          "output_type": "execute_result",
          "data": {
            "text/html": [
              "<table>\n",
              "    <tr>\n",
              "        <th>MAX(intdate)</th>\n",
              "    </tr>\n",
              "    <tr>\n",
              "        <td>2018492358</td>\n",
              "    </tr>\n",
              "</table>"
            ],
            "text/plain": [
              "[(2018492358,)]"
            ]
          },
          "metadata": {
            "tags": []
          },
          "execution_count": 57
        }
      ]
    },
    {
      "cell_type": "markdown",
      "metadata": {
        "id": "Kt3tZIpU4_Mu",
        "colab_type": "text"
      },
      "source": [
        "Identify the most popular hour of the day for picking up a shared electric car (Bluecar) in the city of Paris over the month of April 2018.\n"
      ]
    },
    {
      "cell_type": "code",
      "metadata": {
        "id": "-13Uf1tu4pKk",
        "colab_type": "code",
        "colab": {
          "base_uri": "https://localhost:8080/",
          "height": 92
        },
        "outputId": "32229bd7-4f33-472d-e61f-652c61517249"
      },
      "source": [
        "#\n",
        "%%sql \n",
        "SELECT MAX(intdate), bluecar_counter FROM Cars_dataset\n",
        "WHERE [city] = 'Paris'"
      ],
      "execution_count": 59,
      "outputs": [
        {
          "output_type": "stream",
          "text": [
            " * sqlite://\n",
            "Done.\n"
          ],
          "name": "stdout"
        },
        {
          "output_type": "execute_result",
          "data": {
            "text/html": [
              "<table>\n",
              "    <tr>\n",
              "        <th>MAX(intdate)</th>\n",
              "        <th>bluecar_counter</th>\n",
              "    </tr>\n",
              "    <tr>\n",
              "        <td>2018492358</td>\n",
              "        <td>0</td>\n",
              "    </tr>\n",
              "</table>"
            ],
            "text/plain": [
              "[(2018492358, 0)]"
            ]
          },
          "metadata": {
            "tags": []
          },
          "execution_count": 59
        }
      ]
    },
    {
      "cell_type": "markdown",
      "metadata": {
        "id": "gV4D1Z8xipyJ",
        "colab_type": "text"
      },
      "source": [
        "QUESTION TWO \n",
        "\n",
        "What station is the most popular?\n",
        "Overall?\n",
        "At the most popular picking hour?"
      ]
    },
    {
      "cell_type": "code",
      "metadata": {
        "id": "GPm-RZs-iFVQ",
        "colab_type": "code",
        "outputId": "b50c0e92-118c-400f-fa7a-ef6b079fe842",
        "colab": {
          "base_uri": "https://localhost:8080/",
          "height": 132
        }
      },
      "source": [
        "#\n",
        "%%sql\n",
        "SELECT station_type, COUNT(station_type)\n",
        "FROM Cars_dataset GROUP BY [station_type]\n",
        "ORDER BY COUNT(station_type) DESC;"
      ],
      "execution_count": 0,
      "outputs": [
        {
          "output_type": "stream",
          "text": [
            " * sqlite://\n",
            "Done.\n"
          ],
          "name": "stdout"
        },
        {
          "output_type": "execute_result",
          "data": {
            "text/html": [
              "<table>\n",
              "    <tr>\n",
              "        <th>station_type</th>\n",
              "        <th>COUNT(station_type)</th>\n",
              "    </tr>\n",
              "    <tr>\n",
              "        <td>station</td>\n",
              "        <td>4615</td>\n",
              "    </tr>\n",
              "    <tr>\n",
              "        <td>full_station</td>\n",
              "        <td>382</td>\n",
              "    </tr>\n",
              "    <tr>\n",
              "        <td>subs_center</td>\n",
              "        <td>3</td>\n",
              "    </tr>\n",
              "</table>"
            ],
            "text/plain": [
              "[('station', 4615), ('full_station', 382), ('subs_center', 3)]"
            ]
          },
          "metadata": {
            "tags": []
          },
          "execution_count": 93
        }
      ]
    },
    {
      "cell_type": "markdown",
      "metadata": {
        "id": "anUXeKl25qrD",
        "colab_type": "text"
      },
      "source": [
        "At the most popular picking hour?"
      ]
    },
    {
      "cell_type": "code",
      "metadata": {
        "id": "WmSV6GrG5olT",
        "colab_type": "code",
        "colab": {
          "base_uri": "https://localhost:8080/",
          "height": 92
        },
        "outputId": "ce5a190b-1a53-4df4-c795-3dae9721f57b"
      },
      "source": [
        "#\n",
        "%%sql\n",
        "SELECT station_type, MAX(intdate)\n",
        "FROM Cars_dataset "
      ],
      "execution_count": 60,
      "outputs": [
        {
          "output_type": "stream",
          "text": [
            " * sqlite://\n",
            "Done.\n"
          ],
          "name": "stdout"
        },
        {
          "output_type": "execute_result",
          "data": {
            "text/html": [
              "<table>\n",
              "    <tr>\n",
              "        <th>station_type</th>\n",
              "        <th>MAX(intdate)</th>\n",
              "    </tr>\n",
              "    <tr>\n",
              "        <td>station</td>\n",
              "        <td>2018492358</td>\n",
              "    </tr>\n",
              "</table>"
            ],
            "text/plain": [
              "[('station', 2018492358)]"
            ]
          },
          "metadata": {
            "tags": []
          },
          "execution_count": 60
        }
      ]
    },
    {
      "cell_type": "markdown",
      "metadata": {
        "id": "QbQtH7M5mCS2",
        "colab_type": "text"
      },
      "source": [
        "QUESTION THREE (a)\n",
        "\n",
        "What postal code is the most popular for picking up Blue cars?"
      ]
    },
    {
      "cell_type": "code",
      "metadata": {
        "id": "eu4HbB1vkNKh",
        "colab_type": "code",
        "outputId": "eb342806-3092-43ad-dff6-25180dc7ca54",
        "colab": {
          "base_uri": "https://localhost:8080/",
          "height": 232
        }
      },
      "source": [
        "#\n",
        "%%sql\n",
        "SELECT postal_code, COUNT(bluecar_counter)\n",
        "FROM Cars_dataset GROUP BY [bluecar_counter] ORDER BY COUNT(bluecar_counter) DESC;\n"
      ],
      "execution_count": 0,
      "outputs": [
        {
          "output_type": "stream",
          "text": [
            " * sqlite://\n",
            "Done.\n"
          ],
          "name": "stdout"
        },
        {
          "output_type": "execute_result",
          "data": {
            "text/html": [
              "<table>\n",
              "    <tr>\n",
              "        <th>postal_code</th>\n",
              "        <th>COUNT(bluecar_counter)</th>\n",
              "    </tr>\n",
              "    <tr>\n",
              "        <td>75010</td>\n",
              "        <td>1447</td>\n",
              "    </tr>\n",
              "    <tr>\n",
              "        <td>94140</td>\n",
              "        <td>672</td>\n",
              "    </tr>\n",
              "    <tr>\n",
              "        <td>75007</td>\n",
              "        <td>663</td>\n",
              "    </tr>\n",
              "    <tr>\n",
              "        <td>75018</td>\n",
              "        <td>636</td>\n",
              "    </tr>\n",
              "    <tr>\n",
              "        <td>94120</td>\n",
              "        <td>628</td>\n",
              "    </tr>\n",
              "    <tr>\n",
              "        <td>94000</td>\n",
              "        <td>574</td>\n",
              "    </tr>\n",
              "    <tr>\n",
              "        <td>92350</td>\n",
              "        <td>341</td>\n",
              "    </tr>\n",
              "    <tr>\n",
              "        <td>93150</td>\n",
              "        <td>39</td>\n",
              "    </tr>\n",
              "</table>"
            ],
            "text/plain": [
              "[(75010, 1447),\n",
              " (94140, 672),\n",
              " (75007, 663),\n",
              " (75018, 636),\n",
              " (94120, 628),\n",
              " (94000, 574),\n",
              " (92350, 341),\n",
              " (93150, 39)]"
            ]
          },
          "metadata": {
            "tags": []
          },
          "execution_count": 94
        }
      ]
    },
    {
      "cell_type": "markdown",
      "metadata": {
        "id": "ZELODabfmnYJ",
        "colab_type": "text"
      },
      "source": [
        "QUESTION THREE (b)\n",
        "\n",
        "Does the most popular station belong to that postal code?\n",
        "\n",
        "Overall?\n",
        "At the most popular picking hour?"
      ]
    },
    {
      "cell_type": "code",
      "metadata": {
        "id": "-i3OkpHzo3V3",
        "colab_type": "code",
        "outputId": "a013d42a-1032-4a77-bf50-d4b9c0c0133a",
        "colab": {
          "base_uri": "https://localhost:8080/",
          "height": 132
        }
      },
      "source": [
        "#confirming if the postal code obtained is equal to the station type\n",
        "%%sql\n",
        "SELECT [station_type] FROM Cars_dataset\n",
        "WHERE [postal_code] == 75010 LIMIT 3;\n",
        "\n",
        "#from my results, the most popular postal code matches the most popular station type"
      ],
      "execution_count": 0,
      "outputs": [
        {
          "output_type": "stream",
          "text": [
            " * sqlite://\n",
            "Done.\n"
          ],
          "name": "stdout"
        },
        {
          "output_type": "execute_result",
          "data": {
            "text/html": [
              "<table>\n",
              "    <tr>\n",
              "        <th>station_type</th>\n",
              "    </tr>\n",
              "    <tr>\n",
              "        <td>station</td>\n",
              "    </tr>\n",
              "    <tr>\n",
              "        <td>station</td>\n",
              "    </tr>\n",
              "    <tr>\n",
              "        <td>station</td>\n",
              "    </tr>\n",
              "</table>"
            ],
            "text/plain": [
              "[('station',), ('station',), ('station',)]"
            ]
          },
          "metadata": {
            "tags": []
          },
          "execution_count": 99
        }
      ]
    },
    {
      "cell_type": "markdown",
      "metadata": {
        "id": "fT9TXAqxv9A1",
        "colab_type": "text"
      },
      "source": [
        "QUESTION FOUR\n",
        "\n",
        "Do the results change if you consider Utilib and Utilib 1.4 instead of Blue cars"
      ]
    },
    {
      "cell_type": "code",
      "metadata": {
        "id": "L2KttM_tuECx",
        "colab_type": "code",
        "outputId": "28e124e2-3abc-4819-a4bb-a1b56e3b8864",
        "colab": {
          "base_uri": "https://localhost:8080/",
          "height": 132
        }
      },
      "source": [
        "#considering utilib counter\n",
        "\n",
        "SELECT postal_code, COUNT(utilib_counter)\n",
        "FROM Cars_dataset GROUP BY [utilib_counter] ORDER BY COUNT(utilib_counter) DESC;\n"
      ],
      "execution_count": 0,
      "outputs": [
        {
          "output_type": "stream",
          "text": [
            " * sqlite://\n",
            "Done.\n"
          ],
          "name": "stdout"
        },
        {
          "output_type": "execute_result",
          "data": {
            "text/html": [
              "<table>\n",
              "    <tr>\n",
              "        <th>postal_code</th>\n",
              "        <th>COUNT(utilib_counter)</th>\n",
              "    </tr>\n",
              "    <tr>\n",
              "        <td>75018</td>\n",
              "        <td>4714</td>\n",
              "    </tr>\n",
              "    <tr>\n",
              "        <td>92500</td>\n",
              "        <td>274</td>\n",
              "    </tr>\n",
              "    <tr>\n",
              "        <td>95880</td>\n",
              "        <td>12</td>\n",
              "    </tr>\n",
              "</table>"
            ],
            "text/plain": [
              "[(75018, 4714), (92500, 274), (95880, 12)]"
            ]
          },
          "metadata": {
            "tags": []
          },
          "execution_count": 100
        }
      ]
    },
    {
      "cell_type": "code",
      "metadata": {
        "id": "MB8WqNPdxChm",
        "colab_type": "code",
        "outputId": "e7ff89bd-1f43-4bce-e130-96fc98d9a94d",
        "colab": {
          "base_uri": "https://localhost:8080/",
          "height": 132
        }
      },
      "source": [
        "%%sql\n",
        "SELECT [station_type] FROM Cars_dataset\n",
        "WHERE [postal_code] == 75018 LIMIT 3;"
      ],
      "execution_count": 0,
      "outputs": [
        {
          "output_type": "stream",
          "text": [
            " * sqlite://\n",
            "Done.\n"
          ],
          "name": "stdout"
        },
        {
          "output_type": "execute_result",
          "data": {
            "text/html": [
              "<table>\n",
              "    <tr>\n",
              "        <th>station_type</th>\n",
              "    </tr>\n",
              "    <tr>\n",
              "        <td>station</td>\n",
              "    </tr>\n",
              "    <tr>\n",
              "        <td>station</td>\n",
              "    </tr>\n",
              "    <tr>\n",
              "        <td>station</td>\n",
              "    </tr>\n",
              "</table>"
            ],
            "text/plain": [
              "[('station',), ('station',), ('station',)]"
            ]
          },
          "metadata": {
            "tags": []
          },
          "execution_count": 101
        }
      ]
    }
  ]
}